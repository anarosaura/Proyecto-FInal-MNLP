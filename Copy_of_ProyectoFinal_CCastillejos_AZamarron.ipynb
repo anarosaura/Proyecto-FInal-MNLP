{
 "cells": [
  {
   "cell_type": "markdown",
   "metadata": {
    "id": "gkbOjoGAltOO"
   },
   "source": [
    "<img style=\"float: left; margin: 30px 15px 15px 15px;\" src=\"https://encrypted-tbn0.gstatic.com/images?q=tbn:ANd9GcTFzQj91sOlkeDFkg5HDbjtR4QJYmLXkfMNig&usqp=CAU\" width=\"700\" height=\"200\" />\n",
    "\n",
    "\n",
    "### <font color='navy'> Modelos no lineales para pronósticos.\n",
    "\n",
    "**Nombres:**\n",
    "- Zamarrón Álvarez, Ana Rosaura\n",
    "- Castillejos Jauregui, Claudia Celeste\n",
    "\n",
    "**Fecha:** 24 de abril del 2023.\n",
    "\n",
    "**Expediente** :\n",
    "- 736222\n",
    "- 735868\n",
    "\n",
    "**Profesor:** Oscar David Jaramillo Zuluaga."
   ]
  },
  {
   "cell_type": "code",
   "execution_count": 77,
   "metadata": {
    "id": "H-Ae6V0WltOc"
   },
   "outputs": [],
   "source": [
    "import pandas as pd \n",
    "import numpy as np \n",
    "import matplotlib.pyplot as plt\n",
    "from statsmodels.graphics.tsaplots import plot_acf, plot_pacf\n",
    "from statsmodels.tsa.stattools import adfuller\n",
    "from statsmodels.tsa.seasonal import MSTL\n",
    "import matplotlib.pyplot as plt\n",
    "from sklearn.model_selection import train_test_split"
   ]
  },
  {
   "cell_type": "code",
   "execution_count": 78,
   "metadata": {
    "colab": {
     "base_uri": "https://localhost:8080/",
     "height": 206
    },
    {
     "data": {
      "text/plain": "              DateTime  Junction  Vehicles           ID\n0  2015-11-01 00:00:00         1        15  20151101001\n1  2015-11-01 01:00:00         1        13  20151101011\n2  2015-11-01 02:00:00         1        10  20151101021\n3  2015-11-01 03:00:00         1         7  20151101031\n4  2015-11-01 04:00:00         1         9  20151101041",
      "text/html": "<div>\n<style scoped>\n    .dataframe tbody tr th:only-of-type {\n        vertical-align: middle;\n    }\n\n    .dataframe tbody tr th {\n        vertical-align: top;\n    }\n\n    .dataframe thead th {\n        text-align: right;\n    }\n</style>\n<table border=\"1\" class=\"dataframe\">\n  <thead>\n    <tr style=\"text-align: right;\">\n      <th></th>\n      <th>DateTime</th>\n      <th>Junction</th>\n      <th>Vehicles</th>\n      <th>ID</th>\n    </tr>\n  </thead>\n  <tbody>\n    <tr>\n      <th>0</th>\n      <td>2015-11-01 00:00:00</td>\n      <td>1</td>\n      <td>15</td>\n      <td>20151101001</td>\n    </tr>\n    <tr>\n      <th>1</th>\n      <td>2015-11-01 01:00:00</td>\n      <td>1</td>\n      <td>13</td>\n      <td>20151101011</td>\n    </tr>\n    <tr>\n      <th>2</th>\n      <td>2015-11-01 02:00:00</td>\n      <td>1</td>\n      <td>10</td>\n      <td>20151101021</td>\n    </tr>\n    <tr>\n      <th>3</th>\n      <td>2015-11-01 03:00:00</td>\n      <td>1</td>\n      <td>7</td>\n      <td>20151101031</td>\n    </tr>\n    <tr>\n      <th>4</th>\n      <td>2015-11-01 04:00:00</td>\n      <td>1</td>\n      <td>9</td>\n      <td>20151101041</td>\n    </tr>\n  </tbody>\n</table>\n</div>"
     },
     "execution_count": 78,
     "metadata": {},
     "output_type": "execute_result"
    }
   ],
   "source": [
    "# Cargamos los datos\n",
    "data = pd.read_csv(\"traffic.csv\")\n",
    "data.head()"
   ]
  },
  {
   "cell_type": "code",
   "execution_count": 79,
   "metadata": {
    "colab": {
     "base_uri": "https://localhost:8080/"
    },
    {
     "data": {
      "text/plain": "(48120, 4)"
     },
     "execution_count": 79,
     "metadata": {},
     "output_type": "execute_result"
    }
   ],
   "source": [
    "# El tamaño del arreglo \n",
    "data.shape"
   ]
  },
  {
   "cell_type": "code",
   "execution_count": 80,
   "metadata": {
    "colab": {
     "base_uri": "https://localhost:8080/"
    },
    {
     "data": {
      "text/plain": "DateTime    object\nJunction     int64\nVehicles     int64\nID           int64\ndtype: object"
     },
     "execution_count": 80,
     "metadata": {},
     "output_type": "execute_result"
    }
   ],
   "source": [
    "#Ver el tipo de dato de las variables\n",
    "data.dtypes"
   ]
  },
  {
   "cell_type": "code",
   "execution_count": 81,
   "metadata": {
    "id": "3b7VBBKtltOe"
   },
   "outputs": [],
   "source": [
    "# Cambiar el tipo de dato de las variables necesarias\n",
    "data[\"ID\"] = data[\"ID\"].astype(\"object\")\n",
    "data[\"DateTime\"] = pd.to_datetime(data['DateTime'])"
   ]
  },
  {
   "cell_type": "code",
   "execution_count": 82,
   "metadata": {
    "colab": {
     "base_uri": "https://localhost:8080/"
    },
    {
     "data": {
      "text/plain": "DateTime    datetime64[ns]\nJunction             int64\nVehicles             int64\nID                  object\ndtype: object"
     },
     "execution_count": 82,
     "metadata": {},
     "output_type": "execute_result"
    }
   ],
   "source": [
    "# Ver el resultado del cambio en el tipo de variable \n",
    "data.dtypes"
   ]
  },
  {
   "cell_type": "code",
   "execution_count": 83,
   "metadata": {
    "colab": {
     "base_uri": "https://localhost:8080/",
     "height": 300
    },
    {
     "data": {
      "text/plain": "           Junction      Vehicles\ncount  48120.000000  48120.000000\nmean       2.180549     22.791334\nstd        0.966955     20.750063\nmin        1.000000      1.000000\n25%        1.000000      9.000000\n50%        2.000000     15.000000\n75%        3.000000     29.000000\nmax        4.000000    180.000000",
      "text/html": "<div>\n<style scoped>\n    .dataframe tbody tr th:only-of-type {\n        vertical-align: middle;\n    }\n\n    .dataframe tbody tr th {\n        vertical-align: top;\n    }\n\n    .dataframe thead th {\n        text-align: right;\n    }\n</style>\n<table border=\"1\" class=\"dataframe\">\n  <thead>\n    <tr style=\"text-align: right;\">\n      <th></th>\n      <th>Junction</th>\n      <th>Vehicles</th>\n    </tr>\n  </thead>\n  <tbody>\n    <tr>\n      <th>count</th>\n      <td>48120.000000</td>\n      <td>48120.000000</td>\n    </tr>\n    <tr>\n      <th>mean</th>\n      <td>2.180549</td>\n      <td>22.791334</td>\n    </tr>\n    <tr>\n      <th>std</th>\n      <td>0.966955</td>\n      <td>20.750063</td>\n    </tr>\n    <tr>\n      <th>min</th>\n      <td>1.000000</td>\n      <td>1.000000</td>\n    </tr>\n    <tr>\n      <th>25%</th>\n      <td>1.000000</td>\n      <td>9.000000</td>\n    </tr>\n    <tr>\n      <th>50%</th>\n      <td>2.000000</td>\n      <td>15.000000</td>\n    </tr>\n    <tr>\n      <th>75%</th>\n      <td>3.000000</td>\n      <td>29.000000</td>\n    </tr>\n    <tr>\n      <th>max</th>\n      <td>4.000000</td>\n      <td>180.000000</td>\n    </tr>\n  </tbody>\n</table>\n</div>"
     },
     "execution_count": 83,
     "metadata": {},
     "output_type": "execute_result"
    }
   ],
   "source": [
    "# Descripción de las variables numéricas\n",
    "data.describe()"
   ]
  },
  {
   "cell_type": "code",
   "execution_count": 84,
   "metadata": {
    "colab": {
     "base_uri": "https://localhost:8080/"
    },
    {
     "data": {
      "text/plain": "2017-06-30 23:00:00    4\n2017-03-02 02:00:00    4\n2017-03-02 16:00:00    4\n2017-03-02 15:00:00    4\n2017-03-02 14:00:00    4\n                      ..\n2016-05-21 19:00:00    3\n2016-05-21 20:00:00    3\n2016-05-21 21:00:00    3\n2016-05-21 22:00:00    3\n2016-08-31 00:00:00    3\nName: DateTime, Length: 14592, dtype: int64"
     },
     "execution_count": 84,
     "metadata": {},
     "output_type": "execute_result"
    }
   ],
   "source": [
    "# Vemos los valores de la columna date+time\n",
    "data[\"DateTime\"].value_counts()"
   ]
  },
  {
   "cell_type": "code",
   "execution_count": 85,
   "metadata": {
    "colab": {
     "base_uri": "https://localhost:8080/",
     "height": 175
    },
    {
     "data": {
      "text/plain": "                 DateTime  Junction  Vehicles           ID\n14591 2017-06-30 23:00:00         1        78  20170630231\n29183 2017-06-30 23:00:00         2        27  20170630232\n43775 2017-06-30 23:00:00         3        39  20170630233\n48119 2017-06-30 23:00:00         4        12  20170630234",
      "text/html": "<div>\n<style scoped>\n    .dataframe tbody tr th:only-of-type {\n        vertical-align: middle;\n    }\n\n    .dataframe tbody tr th {\n        vertical-align: top;\n    }\n\n    .dataframe thead th {\n        text-align: right;\n    }\n</style>\n<table border=\"1\" class=\"dataframe\">\n  <thead>\n    <tr style=\"text-align: right;\">\n      <th></th>\n      <th>DateTime</th>\n      <th>Junction</th>\n      <th>Vehicles</th>\n      <th>ID</th>\n    </tr>\n  </thead>\n  <tbody>\n    <tr>\n      <th>14591</th>\n      <td>2017-06-30 23:00:00</td>\n      <td>1</td>\n      <td>78</td>\n      <td>20170630231</td>\n    </tr>\n    <tr>\n      <th>29183</th>\n      <td>2017-06-30 23:00:00</td>\n      <td>2</td>\n      <td>27</td>\n      <td>20170630232</td>\n    </tr>\n    <tr>\n      <th>43775</th>\n      <td>2017-06-30 23:00:00</td>\n      <td>3</td>\n      <td>39</td>\n      <td>20170630233</td>\n    </tr>\n    <tr>\n      <th>48119</th>\n      <td>2017-06-30 23:00:00</td>\n      <td>4</td>\n      <td>12</td>\n      <td>20170630234</td>\n    </tr>\n  </tbody>\n</table>\n</div>"
     },
     "execution_count": 85,
     "metadata": {},
     "output_type": "execute_result"
    }
   ],
   "source": [
    "# Ver los registros con esa fecha\n",
    "data[data[\"DateTime\"] == \"2017-06-30 23:00:00\"]"
   ]
  },
  {
   "cell_type": "code",
   "execution_count": 86,
   "metadata": {
    "colab": {
     "base_uri": "https://localhost:8080/",
     "height": 175
    },
    {
     "data": {
      "text/plain": "                 DateTime  Junction  Vehicles           ID\n11690 2017-03-02 02:00:00         1        50  20170302021\n26282 2017-03-02 02:00:00         2        24  20170302022\n40874 2017-03-02 02:00:00         3        11  20170302023\n45218 2017-03-02 02:00:00         4         5  20170302024",
      "text/html": "<div>\n<style scoped>\n    .dataframe tbody tr th:only-of-type {\n        vertical-align: middle;\n    }\n\n    .dataframe tbody tr th {\n        vertical-align: top;\n    }\n\n    .dataframe thead th {\n        text-align: right;\n    }\n</style>\n<table border=\"1\" class=\"dataframe\">\n  <thead>\n    <tr style=\"text-align: right;\">\n      <th></th>\n      <th>DateTime</th>\n      <th>Junction</th>\n      <th>Vehicles</th>\n      <th>ID</th>\n    </tr>\n  </thead>\n  <tbody>\n    <tr>\n      <th>11690</th>\n      <td>2017-03-02 02:00:00</td>\n      <td>1</td>\n      <td>50</td>\n      <td>20170302021</td>\n    </tr>\n    <tr>\n      <th>26282</th>\n      <td>2017-03-02 02:00:00</td>\n      <td>2</td>\n      <td>24</td>\n      <td>20170302022</td>\n    </tr>\n    <tr>\n      <th>40874</th>\n      <td>2017-03-02 02:00:00</td>\n      <td>3</td>\n      <td>11</td>\n      <td>20170302023</td>\n    </tr>\n    <tr>\n      <th>45218</th>\n      <td>2017-03-02 02:00:00</td>\n      <td>4</td>\n      <td>5</td>\n      <td>20170302024</td>\n    </tr>\n  </tbody>\n</table>\n</div>"
     },
     "execution_count": 86,
     "metadata": {},
     "output_type": "execute_result"
    }
   ],
   "source": [
    "# Ver los registros con esa fecha\n",
    "data[data[\"DateTime\"] == \"2017-03-02 02:00:00\"]"
   ]
  },
  {
   "cell_type": "markdown",
   "metadata": {
    "id": "OpjsmYBcM5eu"
   },
   "source": [
    "Las fechas se repiten para cada junction. Nos quedaremos con una sola serie , la de Junction 1."
   ]
  },
  {
   "cell_type": "code",
   "execution_count": 87,
   "metadata": {
    "colab": {
     "base_uri": "https://localhost:8080/"
    },
    {
     "data": {
      "text/plain": "(14592, 4)"
     },
     "execution_count": 87,
     "metadata": {},
     "output_type": "execute_result"
    }
   ],
   "source": [
    "# Reducimos la base de datos\n",
    "junction1 = data[data[\"Junction\"] == 1]\n",
    "junction1.shape"
   ]
  },
  {
   "cell_type": "code",
   "execution_count": 88,
   "metadata": {
    "colab": {
     "base_uri": "https://localhost:8080/",
     "height": 237
    },
    {
     "data": {
      "text/plain": "                     Vehicles\nDateTime                     \n2015-11-01 00:00:00        15\n2015-11-01 01:00:00        13\n2015-11-01 02:00:00        10\n2015-11-01 03:00:00         7\n2015-11-01 04:00:00         9",
      "text/html": "<div>\n<style scoped>\n    .dataframe tbody tr th:only-of-type {\n        vertical-align: middle;\n    }\n\n    .dataframe tbody tr th {\n        vertical-align: top;\n    }\n\n    .dataframe thead th {\n        text-align: right;\n    }\n</style>\n<table border=\"1\" class=\"dataframe\">\n  <thead>\n    <tr style=\"text-align: right;\">\n      <th></th>\n      <th>Vehicles</th>\n    </tr>\n    <tr>\n      <th>DateTime</th>\n      <th></th>\n    </tr>\n  </thead>\n  <tbody>\n    <tr>\n      <th>2015-11-01 00:00:00</th>\n      <td>15</td>\n    </tr>\n    <tr>\n      <th>2015-11-01 01:00:00</th>\n      <td>13</td>\n    </tr>\n    <tr>\n      <th>2015-11-01 02:00:00</th>\n      <td>10</td>\n    </tr>\n    <tr>\n      <th>2015-11-01 03:00:00</th>\n      <td>7</td>\n    </tr>\n    <tr>\n      <th>2015-11-01 04:00:00</th>\n      <td>9</td>\n    </tr>\n  </tbody>\n</table>\n</div>"
     },
     "execution_count": 88,
     "metadata": {},
     "output_type": "execute_result"
    }
   ],
   "source": [
    "#Hacemos una reducción de la base de datos\n",
    "timeseries = junction1[[\"DateTime\", \"Vehicles\"]].set_index('DateTime')\n",
    "timeseries.head()"
   ]
  },
  {
   "cell_type": "code",
   "execution_count": 89,
   "metadata": {
    "colab": {
     "base_uri": "https://localhost:8080/",
     "height": 639
    },
    {
     "data": {
      "text/plain": "Text(0.5, 1.0, 'Junction 1 Vehicles Timeserie')"
     },
     "execution_count": 89,
     "metadata": {},
     "output_type": "execute_result"
    },
    {
     "data": {
      "text/plain": "<Figure size 1224x504 with 1 Axes>",
      "image/png": "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\n"
     },
     "metadata": {},
     "output_type": "display_data"
    }
   ],
   "source": [
    "# Graficamos la serie de tiempo \n",
    "plt.figure(figsize=(17,7))\n",
    "plt.plot(timeseries)\n",
    "plt.title(\"Junction 1 Vehicles Timeserie\")"
   ]
  },
  {
   "cell_type": "code",
   "execution_count": 90,
   "metadata": {
    "colab": {
     "base_uri": "https://localhost:8080/",
     "height": 469
    },
    {
     "data": {
      "text/plain": "array([[<AxesSubplot:title={'center':'Vehicles'}>]], dtype=object)"
     },
     "execution_count": 90,
     "metadata": {},
     "output_type": "execute_result"
    },
    {
     "data": {
      "text/plain": "<Figure size 432x288 with 1 Axes>",
      "image/png": "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\n"
     },
     "metadata": {},
     "output_type": "display_data"
    }
   ],
   "source": [
    "# Histogramas\n",
    "timeseries.hist(bins=50)"
   ]
  },
  {
   "cell_type": "code",
   "execution_count": 91,
   "metadata": {
    "colab": {
     "base_uri": "https://localhost:8080/",
     "height": 447
    },
    {
     "data": {
      "text/plain": "<AxesSubplot:>"
     },
     "execution_count": 91,
     "metadata": {},
     "output_type": "execute_result"
    },
    {
     "data": {
      "text/plain": "<Figure size 432x288 with 1 Axes>",
      "image/png": "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\n"
     },
     "metadata": {},
     "output_type": "display_data"
    }
   ],
   "source": [
    "# Distribución de las varibales numéricas\n",
    "timeseries.boxplot()"
   ]
  },
  {
   "cell_type": "markdown",
   "metadata": {
    "id": "I3j73Nw_PgC3"
   },
   "source": [
    "Tenemos varios outliers pero no consideramos que haga falta eliminarlas o tratarlas."
   ]
  },
  {
   "cell_type": "code",
   "execution_count": 92,
   "metadata": {
    "colab": {
     "base_uri": "https://localhost:8080/",
     "height": 300
    },
    {
     "data": {
      "text/plain": "           Vehicles\ncount  14592.000000\nmean      45.052906\nstd       23.008345\nmin        5.000000\n25%       27.000000\n50%       40.000000\n75%       59.000000\nmax      156.000000",
      "text/html": "<div>\n<style scoped>\n    .dataframe tbody tr th:only-of-type {\n        vertical-align: middle;\n    }\n\n    .dataframe tbody tr th {\n        vertical-align: top;\n    }\n\n    .dataframe thead th {\n        text-align: right;\n    }\n</style>\n<table border=\"1\" class=\"dataframe\">\n  <thead>\n    <tr style=\"text-align: right;\">\n      <th></th>\n      <th>Vehicles</th>\n    </tr>\n  </thead>\n  <tbody>\n    <tr>\n      <th>count</th>\n      <td>14592.000000</td>\n    </tr>\n    <tr>\n      <th>mean</th>\n      <td>45.052906</td>\n    </tr>\n    <tr>\n      <th>std</th>\n      <td>23.008345</td>\n    </tr>\n    <tr>\n      <th>min</th>\n      <td>5.000000</td>\n    </tr>\n    <tr>\n      <th>25%</th>\n      <td>27.000000</td>\n    </tr>\n    <tr>\n      <th>50%</th>\n      <td>40.000000</td>\n    </tr>\n    <tr>\n      <th>75%</th>\n      <td>59.000000</td>\n    </tr>\n    <tr>\n      <th>max</th>\n      <td>156.000000</td>\n    </tr>\n  </tbody>\n</table>\n</div>"
     },
     "execution_count": 92,
     "metadata": {},
     "output_type": "execute_result"
    }
   ],
   "source": [
    "# Descripción de las variables numéricas\n",
    "timeseries.describe()"
   ]
  },
  {
   "cell_type": "markdown",
   "metadata": {
    "id": "HdT1V4CBltOn"
   },
   "source": [
    "## Modelos lineales"
   ]
  },
  {
   "cell_type": "code",
   "execution_count": 17,
   "metadata": {
    "id": "55ZT6CVhltOn"
   },
   "outputs": [],
   "source": [
    "class LinearForecast:\n",
    "    def __init__(self, data):\n",
    "        self.data = timeseries\n",
    "\n",
    "    def adf_test(self):\n",
    "        print(\"Results of Dickey-Fuller Test:\")\n",
    "        dftest = adfuller(self.data, autolag=\"AIC\")\n",
    "        dfoutput = pd.Series(\n",
    "            dftest[0:4],\n",
    "            index=[\n",
    "                \"Test Statistic\",\n",
    "                \"p-value\",\n",
    "                \"#Lags Used\",\n",
    "                \"Number of Observations Used\",\n",
    "            ],\n",
    "        )\n",
    "        for key, value in dftest[4].items():\n",
    "            dfoutput[\"Critical Value (%s)\" % key] = value\n",
    "        print(dfoutput)\n",
    "\n",
    "        if (dftest[1] <= 0.05) & (dftest[4]['5%'] > dftest[0]):\n",
    "            print(\"\\u001b[32mStationary\\u001b[0m\")\n",
    "        else:\n",
    "            print(\"\\x1b[31mNon-stationary\\x1b[0m\")\n",
    "\n",
    "        # Graficar ACF y PACF\n",
    "    def plot_acf_pacf(self, kwargs=dict()):\n",
    "        f = plt.figure(figsize=(8,5))\n",
    "\n",
    "        ax1 = f.add_subplot(121)\n",
    "\n",
    "        plot_acf(self.data, zero=False, ax=ax1, **kwargs)\n",
    "\n",
    "        ax2 = f.add_subplot(122)\n",
    "        plot_pacf(self.data, zero=False, ax=ax2, method='ols', **kwargs)\n",
    "\n",
    "        plt.show()\n",
    "\n",
    "    def descomposicion(self):\n",
    "        data1 = self.data.copy()\n",
    "        periods_seasonality = (6, 12)\n",
    "\n",
    "        stl_kwargs = {\"seasonal_deg\": 0}\n",
    "        model = MSTL(data1, periods=periods_seasonality, stl_kwargs=stl_kwargs)\n",
    "        res2 = model.fit()\n",
    "\n",
    "        # Gráfica de descomposición\n",
    "        fig, ax = plt.subplots(5, 1, sharex=True, figsize=(8, 8))\n",
    "\n",
    "        res2.observed.plot(ax=ax[0])\n",
    "        ax[0].set_ylabel('Observed')\n",
    "\n",
    "        res2.trend.plot(ax=ax[1])\n",
    "        ax[1].set_ylabel('Trend')\n",
    "\n",
    "        res2.seasonal[f'seasonal_{periods_seasonality[0]}'].plot(ax=ax[2])\n",
    "        ax[2].set_ylabel(f'seasonal_{periods_seasonality[0]}')\n",
    "\n",
    "        res2.seasonal[f'seasonal_{periods_seasonality[1]}'].plot(ax=ax[3])\n",
    "        ax[3].set_ylabel(f'seasonal_{periods_seasonality[1]}')\n",
    "\n",
    "        res2.resid.plot(ax=ax[4])\n",
    "        ax[4].set_ylabel('Residual')\n",
    "\n",
    "        fig.tight_layout()\n",
    "        \n",
    "        return res2\n",
    "        \n",
    "    def split_dataset(self):\n",
    "        train_data, test_data = train_test_split(timeseries, test_size=0.25, random_state=0, shuffle=False)\n",
    "\n",
    "        return train_data, test_data\n",
    "\n",
    "    def evaluate_forecasts(self,actual, predicted):\n",
    "            \n",
    "        mse = mean_squared_error(actual, predicted)\n",
    "        rmse = mean_squared_error(actual, predicted, squared=True)\n",
    "        mad = mean_absolute_error(actual, predicted)\n",
    "        mape = mean_absolute_percentage_error(actual, predicted)\n",
    "\n",
    "        return mse, rmse, mad, mape"
   ]
  },
  {
   "cell_type": "code",
   "execution_count": 18,
   "metadata": {
    "id": "HrmpB19nltOn"
   },
   "outputs": [],
   "source": [
    "# Separamos los datos en entrenamiento y prueba (train = 75 y test = 25)\n",
    "lf = LinearForecast(timeseries)\n",
    "train, test = lf.split_dataset()"
   ]
  },
  {
   "cell_type": "code",
   "execution_count": 19,
   "metadata": {
    "id": "TQMRUbBdltOn"
   },
   "outputs": [
    {
      "cell_type": "markdown",
      "source": [
        "Tenemos varios outliers pero no consideramos que haga falta eliminarlas o tratarlas."
      ],
      "metadata": {
        "id": "I3j73Nw_PgC3"
      }
    },
    {
      "cell_type": "code",
      "execution_count": null,
      "outputs": [
        {
          "output_type": "execute_result",
          "data": {
            "text/plain": [
              "           Vehicles\n",
              "count  14592.000000\n",
              "mean      45.052906\n",
              "std       23.008345\n",
              "min        5.000000\n",
              "25%       27.000000\n",
              "50%       40.000000\n",
              "75%       59.000000\n",
              "max      156.000000"
            ],
            "text/html": [
              "\n",
              "  <div id=\"df-b2eda307-9b5a-4266-b061-3ec56bab500d\">\n",
              "    <div class=\"colab-df-container\">\n",
              "      <div>\n",
              "<style scoped>\n",
              "    .dataframe tbody tr th:only-of-type {\n",
              "        vertical-align: middle;\n",
              "    }\n",
              "\n",
              "    .dataframe tbody tr th {\n",
              "        vertical-align: top;\n",
              "    }\n",
              "\n",
              "    .dataframe thead th {\n",
              "        text-align: right;\n",
              "    }\n",
              "</style>\n",
              "<table border=\"1\" class=\"dataframe\">\n",
              "  <thead>\n",
              "    <tr style=\"text-align: right;\">\n",
              "      <th></th>\n",
              "      <th>Vehicles</th>\n",
              "    </tr>\n",
              "  </thead>\n",
              "  <tbody>\n",
              "    <tr>\n",
              "      <th>count</th>\n",
              "      <td>14592.000000</td>\n",
              "    </tr>\n",
              "    <tr>\n",
              "      <th>mean</th>\n",
              "      <td>45.052906</td>\n",
              "    </tr>\n",
              "    <tr>\n",
              "      <th>std</th>\n",
              "      <td>23.008345</td>\n",
              "    </tr>\n",
              "    <tr>\n",
              "      <th>min</th>\n",
              "      <td>5.000000</td>\n",
              "    </tr>\n",
              "    <tr>\n",
              "      <th>25%</th>\n",
              "      <td>27.000000</td>\n",
              "    </tr>\n",
              "    <tr>\n",
              "      <th>50%</th>\n",
              "      <td>40.000000</td>\n",
              "    </tr>\n",
              "    <tr>\n",
              "      <th>75%</th>\n",
              "      <td>59.000000</td>\n",
              "    </tr>\n",
              "    <tr>\n",
              "      <th>max</th>\n",
              "      <td>156.000000</td>\n",
              "    </tr>\n",
              "  </tbody>\n",
              "</table>\n",
              "</div>\n",
              "      <button class=\"colab-df-convert\" onclick=\"convertToInteractive('df-b2eda307-9b5a-4266-b061-3ec56bab500d')\"\n",
              "              title=\"Convert this dataframe to an interactive table.\"\n",
              "              style=\"display:none;\">\n",
              "        \n",
              "  <svg xmlns=\"http://www.w3.org/2000/svg\" height=\"24px\"viewBox=\"0 0 24 24\"\n",
              "       width=\"24px\">\n",
              "    <path d=\"M0 0h24v24H0V0z\" fill=\"none\"/>\n",
              "    <path d=\"M18.56 5.44l.94 2.06.94-2.06 2.06-.94-2.06-.94-.94-2.06-.94 2.06-2.06.94zm-11 1L8.5 8.5l.94-2.06 2.06-.94-2.06-.94L8.5 2.5l-.94 2.06-2.06.94zm10 10l.94 2.06.94-2.06 2.06-.94-2.06-.94-.94-2.06-.94 2.06-2.06.94z\"/><path d=\"M17.41 7.96l-1.37-1.37c-.4-.4-.92-.59-1.43-.59-.52 0-1.04.2-1.43.59L10.3 9.45l-7.72 7.72c-.78.78-.78 2.05 0 2.83L4 21.41c.39.39.9.59 1.41.59.51 0 1.02-.2 1.41-.59l7.78-7.78 2.81-2.81c.8-.78.8-2.07 0-2.86zM5.41 20L4 18.59l7.72-7.72 1.47 1.35L5.41 20z\"/>\n",
              "  </svg>\n",
              "      </button>\n",
              "      \n",
              "  <style>\n",
              "    .colab-df-container {\n",
              "      display:flex;\n",
              "      flex-wrap:wrap;\n",
              "      gap: 12px;\n",
              "    }\n",
              "\n",
              "    .colab-df-convert {\n",
              "      background-color: #E8F0FE;\n",
              "      border: none;\n",
              "      border-radius: 50%;\n",
              "      cursor: pointer;\n",
              "      display: none;\n",
              "      fill: #1967D2;\n",
              "      height: 32px;\n",
              "      padding: 0 0 0 0;\n",
              "      width: 32px;\n",
              "    }\n",
              "\n",
              "    .colab-df-convert:hover {\n",
              "      background-color: #E2EBFA;\n",
              "      box-shadow: 0px 1px 2px rgba(60, 64, 67, 0.3), 0px 1px 3px 1px rgba(60, 64, 67, 0.15);\n",
              "      fill: #174EA6;\n",
              "    }\n",
              "\n",
              "    [theme=dark] .colab-df-convert {\n",
              "      background-color: #3B4455;\n",
              "      fill: #D2E3FC;\n",
              "    }\n",
              "\n",
              "    [theme=dark] .colab-df-convert:hover {\n",
              "      background-color: #434B5C;\n",
              "      box-shadow: 0px 1px 3px 1px rgba(0, 0, 0, 0.15);\n",
              "      filter: drop-shadow(0px 1px 2px rgba(0, 0, 0, 0.3));\n",
              "      fill: #FFFFFF;\n",
              "    }\n",
              "  </style>\n",
              "\n",
              "      <script>\n",
              "        const buttonEl =\n",
              "          document.querySelector('#df-b2eda307-9b5a-4266-b061-3ec56bab500d button.colab-df-convert');\n",
              "        buttonEl.style.display =\n",
              "          google.colab.kernel.accessAllowed ? 'block' : 'none';\n",
              "\n",
              "        async function convertToInteractive(key) {\n",
              "          const element = document.querySelector('#df-b2eda307-9b5a-4266-b061-3ec56bab500d');\n",
              "          const dataTable =\n",
              "            await google.colab.kernel.invokeFunction('convertToInteractive',\n",
              "                                                     [key], {});\n",
              "          if (!dataTable) return;\n",
              "\n",
              "          const docLinkHtml = 'Like what you see? Visit the ' +\n",
              "            '<a target=\"_blank\" href=https://colab.research.google.com/notebooks/data_table.ipynb>data table notebook</a>'\n",
              "            + ' to learn more about interactive tables.';\n",
              "          element.innerHTML = '';\n",
              "          dataTable['output_type'] = 'display_data';\n",
              "          await google.colab.output.renderOutput(dataTable, element);\n",
              "          const docLink = document.createElement('div');\n",
              "          docLink.innerHTML = docLinkHtml;\n",
              "          element.appendChild(docLink);\n",
              "        }\n",
              "      </script>\n",
              "    </div>\n",
              "  </div>\n",
              "  "
            ]
          },
          "metadata": {},
          "execution_count": 26
        }
      ],
      "source": [
        "# Descripción de las variables numéricas\n",
        "timeseries.describe()"
      ],
      "metadata": {
        "id": "N2cNRCdtltOh",
        "outputId": "1082fc61-8446-44c5-e312-3d3bb327dbb4",
        "colab": {
          "base_uri": "https://localhost:8080/",
          "height": 300
        }
      }
    },
    {
      "cell_type": "code",
      "source": [],
      "metadata": {
        "id": "IDil4xZlXryB"
      },
      "execution_count": null,
      "outputs": []
    },
    {
      "cell_type": "code",
      "source": [],
      "metadata": {
        "id": "GLkezkDZXrY8"
      },
      "execution_count": null,
      "outputs": []
    },
    {
      "cell_type": "code",
      "source": [],
      "metadata": {
        "id": "CJ9PMdKrXrKI"
      },
      "execution_count": null,
      "outputs": []
    },
    {
      "cell_type": "code",
      "source": [],
      "metadata": {
        "id": "eQ58ZtXIXq_u"
      },
      "execution_count": null,
      "outputs": []
    },
    {
      "cell_type": "code",
      "source": [],
      "metadata": {
        "id": "QU2tO0hWXqxW"
      },
      "execution_count": null,
      "outputs": []
    },
    {
      "cell_type": "markdown",
      "source": [
        "## Modelos lineales"
      ],
      "metadata": {
        "collapsed": false,
        "id": "HdT1V4CBltOn"
      }
    },
    {
      "cell_type": "code",
      "execution_count": null,
      "outputs": [],
      "source": [],
      "metadata": {
        "id": "55ZT6CVhltOn"
      }
    },
    {
      "cell_type": "code",
      "execution_count": null,
      "outputs": [],
      "source": [],
      "metadata": {
        "id": "HrmpB19nltOn"
      }
    },
    {
      "cell_type": "code",
      "execution_count": null,
      "outputs": [],
      "source": [],
      "metadata": {
        "id": "TQMRUbBdltOn"
      }
    },
    {
      "cell_type": "code",
      "execution_count": null,
      "outputs": [],
      "source": [],
      "metadata": {
        "id": "lcgFAevsltOo"
      }
    },
    {
      "cell_type": "code",
      "execution_count": null,
      "outputs": [],
      "source": [],
      "metadata": {
        "id": "3GmVlHKoltOo"
      }
    },
    {
      "cell_type": "code",
      "execution_count": null,
      "outputs": [],
      "source": [],
      "metadata": {
        "id": "KiMZk8IhltOo"
      }
    },
    {
      "cell_type": "markdown",
      "source": [
        "## Modelos no lineales"
      ],
      "metadata": {
        "id": "R8vKRLaBL4oG"
      }
    },
    {
     "name": "stdout",
     "output_type": "stream",
     "text": [
      "Results of Dickey-Fuller Test:\n",
      "Test Statistic                -7.148078e+00\n",
      "p-value                        3.193843e-10\n",
      "#Lags Used                     4.200000e+01\n",
      "Number of Observations Used    1.454900e+04\n",
      "Critical Value (1%)           -3.430800e+00\n",
      "Critical Value (5%)           -2.861739e+00\n",
      "Critical Value (10%)          -2.566876e+00\n",
      "dtype: float64\n",
      "\u001B[32mStationary\u001B[0m\n"
     ]
    }
   ],
   "source": [
    "lf = LinearForecast(train[\"Vehicles2\"])\n",
    "lf.adf_test()"
   ]
  },
  {
   "cell_type": "markdown",
   "metadata": {},
   "source": [
    "La prueba de Dicker-Fuller nos permite determinar si la serie de tiempo tiene o no estacionariedad. Esta serie de tiempo  tiene estacionariedad lo que significa que la media y la varianza son constantes en el tiempo y no presenta tendencia dentro de la serie"
   ]
  },
  {
   "cell_type": "code",
   "execution_count": 28,
   "metadata": {},
   "outputs": [
    {
      "cell_type": "code",
      "source": [
        "# dividir una secuencia univariada en muestras\n",
        "def split_univariate_sequence(sequence, n_steps):\n",
        "    X, y = list(), list()\n",
        "    for i in range(len(sequence)):\n",
        "        # encontrar el final de este patrón\n",
        "        end_ix = i + n_steps\n",
        "\n",
        "        # comprobar si estamos más allá de la secuencia\n",
        "        if end_ix > len(sequence)-1:\n",
        "            break\n",
        "        # reunir partes de entrada y salida del patrón\n",
        "        seq_x, seq_y = sequence[i:end_ix], sequence[end_ix]\n",
        "        X.append(seq_x)\n",
        "        y.append(seq_y)\n",
        "    return np.array(X), np.array(y)"
      ],
      "metadata": {
        "id": "f1hNEpIdL7tS"
      },
      "execution_count": 54,
      "outputs": []
    },
    {
      "cell_type": "code",
      "source": [
        "plt.plot(vals_bc)"
      ],
      "metadata": {
        "colab": {
          "base_uri": "https://localhost:8080/",
          "height": 447
        },
        "id": "biF78rfQ2Nn5",
        "outputId": "0bc80297-8481-43f7-cd17-32369ffc679a"
      },
      "execution_count": 55,
      "outputs": [
        {
          "output_type": "execute_result",
          "data": {
            "text/plain": [
              "[<matplotlib.lines.Line2D at 0x7fe470cc8850>]"
            ]
          },
          "metadata": {},
          "execution_count": 55
        },
        {
          "output_type": "display_data",
          "data": {
            "text/plain": [
              "<Figure size 640x480 with 1 Axes>"
            ],
            "image/png": "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\n"
          },
          "metadata": {}
        }
      ]
    },
    {
      "cell_type": "code",
      "source": [
        "# Elegir un número de pasos de tiempo\n",
        "n_steps = 3\n",
        "# Dividir en muestras\n",
        "X, y = split_univariate_sequence(vals_bc, n_steps)\n",
        "\n",
        "print('X', X, 'y', y, sep='\\n')"
      ],
      "metadata": {
        "colab": {
          "base_uri": "https://localhost:8080/"
        },
        "id": "NXKOyligqK5L",
        "outputId": "23288147-6f41-4bb6-d34c-e347008fadec"
      },
      "execution_count": 56,
      "outputs": [
        {
          "output_type": "stream",
          "name": "stdout",
          "text": [
            "X\n",
            "[[[-1.67867827]\n",
            "  [-1.88844909]\n",
            "  [-2.25500586]]\n",
            "\n",
            " [[-1.88844909]\n",
            "  [-2.25500586]\n",
            "  [-2.71806446]]\n",
            "\n",
            " [[-2.25500586]\n",
            "  [-2.71806446]\n",
            "  [-2.39589795]]\n",
            "\n",
            " ...\n",
            "\n",
            " [[ 1.77549711]\n",
            "  [ 2.00961311]\n",
            "  [ 1.79973176]]\n",
            "\n",
            " [[ 2.00961311]\n",
            "  [ 1.79973176]\n",
            "  [ 1.65131936]]\n",
            "\n",
            " [[ 1.79973176]\n",
            "  [ 1.65131936]\n",
            "  [ 1.49516005]]]\n",
            "y\n",
            "[[-2.71806446]\n",
            " [-2.39589795]\n",
            " [-2.9063654 ]\n",
            " ...\n",
            " [ 1.65131936]\n",
            " [ 1.49516005]\n",
            " [ 1.33024985]]\n"
          ]
        }
      ]
    },
    {
     "name": "stdout",
     "output_type": "stream",
     "text": [
      "Results of Dickey-Fuller Test:\n",
      "Test Statistic                -7.148078e+00\n",
      "p-value                        3.193843e-10\n",
      "#Lags Used                     4.200000e+01\n",
      "Number of Observations Used    1.454900e+04\n",
      "Critical Value (1%)           -3.430800e+00\n",
      "Critical Value (5%)           -2.861739e+00\n",
      "Critical Value (10%)          -2.566876e+00\n",
      "dtype: float64\n",
      "\u001B[32mStationary\u001B[0m\n"
     ]
    }
   ],
   "source": [
    "seasonality_6 = des.seasonal['seasonal_6']\n",
    "LinearForecast(seasonality_6).adf_test()"
   ]
  },
  {
   "cell_type": "code",
   "execution_count": 31,
   "metadata": {},
   "outputs": [
    {
     "name": "stdout",
     "output_type": "stream",
     "text": [
      "Results of Dickey-Fuller Test:\n",
      "Test Statistic                -7.148078e+00\n",
      "p-value                        3.193843e-10\n",
      "#Lags Used                     4.200000e+01\n",
      "Number of Observations Used    1.454900e+04\n",
      "Critical Value (1%)           -3.430800e+00\n",
      "Critical Value (5%)           -2.861739e+00\n",
      "Critical Value (10%)          -2.566876e+00\n",
      "dtype: float64\n",
      "\u001B[32mStationary\u001B[0m\n"
     ]
    }
   ],
   "source": [
    "seasonality_12 = des.seasonal['seasonal_12']\n",
    "LinearForecast(seasonality_12).adf_test()"
   ]
  },
  {
   "cell_type": "markdown",
   "metadata": {},
   "source": [
    "> **Conclusión** Como el nivel de significacia es de 3.19, se puede rechazar la hipótesis nula. Por lo tanto, la serie es estacionaria en ambos casos."
   ]
  },
  {
   "cell_type": "code",
   "execution_count": 32,
   "metadata": {},
   "outputs": [
    {
      "cell_type": "code",
      "source": [
        "X_train, y_train, X_val, y_val, X_test, y_test = split_dataset(X, y)\n",
        "print(\"X_train shape:\", X_train.shape, \"\\ny_train shape:\",y_train.shape,\"\\nX_val shape: \", X_val.shape, \"\\ny_val shape:\", y_val.shape, \"\\nX_test shape:\",X_test.shape, \"\\ny_test shape:\",y_test.shape)"
      ],
      "metadata": {
        "colab": {
          "base_uri": "https://localhost:8080/"
        },
        "id": "l9m-iUftqKeW",
        "outputId": "3d3f2427-7246-45ed-d0e6-3579c89518f7"
      },
      "execution_count": 59,
      "outputs": [
        {
          "output_type": "stream",
          "name": "stdout",
          "text": [
            "X_train shape: (10503, 3, 1) \n",
            "y_train shape: (10503, 1) \n",
            "X_val shape:  (1168, 3, 1) \n",
            "y_val shape: (1168, 1) \n",
            "X_test shape: (2918, 3, 1) \n",
            "y_test shape: (2918, 1)\n"
          ]
        }
      ]
    },
    {
      "cell_type": "code",
      "source": [
        "def modelo2(n_steps, X_train, y_train, X_val, y_val, X_test, y_test):\n",
        "    model = keras.models.Sequential([\n",
        "        keras.layers.Input(n_steps),\n",
        "        keras.layers.Dense(256, activation='relu'),\n",
        "        keras.layers.Dense(128, activation='relu'),\n",
        "        keras.layers.Dense(64, activation='relu'),\n",
        "        keras.layers.Dense(32, activation='relu'),\n",
        "        keras.layers.Dense(1)\n",
        "    ])\n",
        "\n",
        "    # Compilar el modelo y definir métricas y funciones de pérdida\n",
        "    model.compile(optimizer='adam', loss='mape', metrics=\"mse\")\n",
        "\n",
        "    # Resumir el modelo compilado\n",
        "    model.summary()\n",
        "\n",
        "    history1 = model.fit(X_train, y_train, validation_data=(X_val, y_val), epochs=100, verbose=False)\n",
        "\n",
        "    # Analizar función de pérdida\n",
        "    plt.plot(history1.history['loss'], 'r--', label='loss')\n",
        "    plt.xlabel('epochs')\n",
        "    plt.ylabel('loss')\n",
        "    plt.legend()\n",
        "    plt.show()\n",
        "\n",
        "    # Analizar las métricas\n",
        "    plt.plot(history1.history['mse'], 'r--', label='loss')\n",
        "    plt.xlabel('epochs')\n",
        "    plt.ylabel('mse')\n",
        "    plt.legend()\n",
        "    plt.show()\n",
        "\n",
        "    # Evaluar el modelo en el conjunto de prueba\n",
        "    test_mape_score, test_mse_score = model.evaluate(X_test, y_test)\n",
        "    return test_mape_score, test_mse_score\n"
      ],
      "metadata": {
        "id": "ktwEg5lOqKUG"
      },
      "execution_count": 60,
      "outputs": []
    },
    {
      "cell_type": "code",
      "source": [
        "test_mape_score, test_mse_score = modelo2(n_steps, X_train, y_train, X_val, y_val, X_test, y_test)\n",
        "print('MAPE en el conjunto de prueba:', test_mape_score)\n",
        "print('MSE en el conjunto de prueba:', test_mse_score)"
      ],
      "metadata": {
        "colab": {
          "base_uri": "https://localhost:8080/"
        },
        "id": "EnVL7VMxqKLb",
        "outputId": "4865a703-9a53-47e3-8323-1b8f40648d3a"
      },
      "execution_count": null,
      "outputs": [
        {
          "output_type": "stream",
          "name": "stdout",
          "text": [
            "Model: \"sequential_1\"\n",
            "_________________________________________________________________\n",
            " Layer (type)                Output Shape              Param #   \n",
            "=================================================================\n",
            " dense_5 (Dense)             (None, 256)               1024      \n",
            "                                                                 \n",
            " dense_6 (Dense)             (None, 128)               32896     \n",
            "                                                                 \n",
            " dense_7 (Dense)             (None, 64)                8256      \n",
            "                                                                 \n",
            " dense_8 (Dense)             (None, 32)                2080      \n",
            "                                                                 \n",
            " dense_9 (Dense)             (None, 1)                 33        \n",
            "                                                                 \n",
            "=================================================================\n",
            "Total params: 44,289\n",
            "Trainable params: 44,289\n",
            "Non-trainable params: 0\n",
            "_________________________________________________________________\n"
          ]
        }
      ]
    },
    {
      "cell_type": "markdown",
      "source": [
        "#### CNN"
      ],
      "metadata": {
        "id": "b7vqBReR07VR"
      }
    },
    {
      "cell_type": "code",
      "source": [
        "# Definir la secuencia de entrada\n",
        "raw_seq = vals_bc.tolist()\n",
        "# Elegir un número de pasos de tiempo\n",
        "n_steps = 3\n",
        "# Número de características de mis datos\n",
        "n_features = 1\n",
        "# Dividir en muestras\n",
        "X, y = split_univariate_sequence(raw_seq, n_steps)\n",
        "\n",
        "print('X', X, 'y', y, sep='\\n')"
      ],
      "metadata": {
        "colab": {
          "base_uri": "https://localhost:8080/"
        },
        "id": "4RGSneF001v_",
        "outputId": "2d4b8ae8-9287-41c3-efe3-701fa7fdd544"
      },
      "execution_count": null,
      "outputs": [
        {
          "output_type": "stream",
          "name": "stdout",
          "text": [
            "X\n",
            "[[[-0.42298395]\n",
            "  [ 0.61595232]\n",
            "  [ 0.99963621]]\n",
            "\n",
            " [[ 0.61595232]\n",
            "  [ 0.99963621]\n",
            "  [ 0.71840249]]\n",
            "\n",
            " [[ 0.99963621]\n",
            "  [ 0.71840249]\n",
            "  [ 1.15315905]]\n",
            "\n",
            " ...\n",
            "\n",
            " [[-2.20484733]\n",
            "  [ 0.53353761]\n",
            "  [ 0.07171374]]\n",
            "\n",
            " [[ 0.53353761]\n",
            "  [ 0.07171374]\n",
            "  [ 2.84483699]]\n",
            "\n",
            " [[ 0.07171374]\n",
            "  [ 2.84483699]\n",
            "  [-0.41735238]]]\n",
            "y\n",
            "[[ 0.71840249]\n",
            " [ 1.15315905]\n",
            " [ 1.01253194]\n",
            " ...\n",
            " [ 2.84483699]\n",
            " [-0.41735238]\n",
            " [ 0.72163297]]\n"
          ]
        }
      ]
    },
    {
      "cell_type": "code",
      "source": [
        "from keras.models import Sequential\n",
        "from keras.layers import Dense, Flatten, LSTM, Conv1D, MaxPooling1D"
      ],
      "metadata": {
        "id": "2XTMe9A21enl"
      },
      "execution_count": null,
      "outputs": []
    },
    {
      "cell_type": "code",
      "source": [
        "def modelo_cnn(n_steps, X_train, y_train, X_val, y_val, X_test, y_test):\n",
        "\n",
        "    # Definimos el modelo\n",
        "    model_1 = Sequential()\n",
        "    model_1.add(Conv1D(64, 2, activation='relu', input_shape=(n_steps, n_features)))\n",
        "    model_1.add(Dense(32, activation='relu'))\n",
        "    model_1.add(MaxPooling1D())\n",
        "    model_1.add(Flatten())\n",
        "    model_1.add(Dense(1))\n",
        "\n",
        "    model_1.summary()\n",
        "\n",
        "    # Compilar el modelo y definir métricas y funciones de pérdida\n",
        "    model_1.compile(\n",
        "    optimizer=keras.optimizers.Adam(learning_rate=0.001), loss='mape', metrics=['mse'])\n",
        "\n",
        "    h = model_1.fit(X_train, y_train, validation_data=(X_val, y_val), epochs=100, verbose=False)\n",
        "\n",
        "    # Analizar función de pérdida\n",
        "    plt.plot(h.history['loss'], 'r--', label='loss')\n",
        "    plt.xlabel('epochs')\n",
        "    plt.ylabel('loss')\n",
        "    plt.legend()\n",
        "    plt.show()\n",
        "\n",
        "    # Analizar las métricas\n",
        "    plt.plot(h.history['mse'], 'r--', label='loss')\n",
        "    plt.xlabel('epochs')\n",
        "    plt.ylabel('mse')\n",
        "    plt.legend()\n",
        "    plt.show()\n",
        "\n",
        "    # Evaluar el modelo en el conjunto de prueba\n",
        "    test_mape_score, test_mse_score = model_1.evaluate(X_test, y_test)\n",
        "    return test_mape_score, test_mse_score\n"
      ],
      "metadata": {
        "id": "rsGXecmM01Y-"
      },
      "execution_count": null,
      "outputs": []
    },
    {
      "cell_type": "code",
      "source": [
        "cnn_test_mape_score1, cnn_test_mse_score1 = modelo_cnn(n_steps, X_train, y_train, X_val, y_val, X_test, y_test)\n",
        "print('MAPE en el conjunto de prueba:', cnn_test_mape_score1)\n",
        "print('MSE en el conjunto de prueba:', cnn_test_mse_score1)"
      ],
      "metadata": {
        "colab": {
          "base_uri": "https://localhost:8080/",
          "height": 1000
        },
        "id": "rb-CCu4n01Dp",
        "outputId": "7287ead8-771f-4fc5-ec4f-6d6b5215a883"
      },
      "execution_count": null,
      "outputs": [
        {
          "output_type": "stream",
          "name": "stdout",
          "text": [
            "Model: \"sequential_3\"\n",
            "_________________________________________________________________\n",
            " Layer (type)                Output Shape              Param #   \n",
            "=================================================================\n",
            " conv1d (Conv1D)             (None, 2, 64)             192       \n",
            "                                                                 \n",
            " dense_13 (Dense)            (None, 2, 32)             2080      \n",
            "                                                                 \n",
            " max_pooling1d (MaxPooling1D  (None, 1, 32)            0         \n",
            " )                                                               \n",
            "                                                                 \n",
            " flatten (Flatten)           (None, 32)                0         \n",
            "                                                                 \n",
            " dense_14 (Dense)            (None, 1)                 33        \n",
            "                                                                 \n",
            "=================================================================\n",
            "Total params: 2,305\n",
            "Trainable params: 2,305\n",
            "Non-trainable params: 0\n",
            "_________________________________________________________________\n"
          ]
        },
        {
          "output_type": "display_data",
          "data": {
            "text/plain": [
              "<Figure size 640x480 with 1 Axes>"
            ],
            "image/png": "iVBORw0KGgoAAAANSUhEUgAAAjsAAAGwCAYAAABPSaTdAAAAOXRFWHRTb2Z0d2FyZQBNYXRwbG90bGliIHZlcnNpb24zLjcuMSwgaHR0cHM6Ly9tYXRwbG90bGliLm9yZy/bCgiHAAAACXBIWXMAAA9hAAAPYQGoP6dpAAB9LUlEQVR4nO3dd3hU1dYG8HcSkpBACi0FSOgtEDpCABGlgwiKBUVBRRAvqBRRuQpWjFevvaF8CngRURRQQUA6Kj3SQZpIT4KUhJYAyfn+WOycM5MzycxkkplJ3t/zzDPtzJk9AzqLvddey6JpmgYiIiKiEsrP0wMgIiIiKkoMdoiIiKhEY7BDREREJRqDHSIiIirRGOwQERFRicZgh4iIiEo0BjtERERUopXx9AC8QU5ODk6cOIHQ0FBYLBZPD4eIiIgcoGkazp8/j6pVq8LPz/78DYMdACdOnEBsbKynh0FEREQuOHr0KKpXr273eQY7AEJDQwHIlxUWFubh0RAREZEjMjIyEBsbm/s7bg+DHSB36SosLIzBDhERkY8pKAWFCcpERERUojHYISIiohKNwQ4RERGVaMzZISIi8oDs7GxcvXrV08PwagEBAfD39y/0eRjsEBERFSNN05CSkoJz5855eig+ISIiAtHR0YWqg8dgh4iIqBipQCcyMhIhISEsZmuHpmm4dOkS0tLSAAAxMTEun4vBDhERUTHJzs7ODXQqVark6eF4veDgYABAWloaIiMjXV7SYoIyERFRMVE5OiEhIR4eie9Q31Vh8psY7BARERUzLl05zh3fFYMdIiIiKtEY7BAREVGJxmCHiIiICtS5c2eMHj3a08NwCYMdX3HpkqdHQERE5JMY7PiCN94AypUDFizw9EiIiIh8DoMdX/DMM3I9dKhnx0FEREXn4kX7l8xMx4+9fLngYwvp7NmzGDx4MCpUqICQkBD06tUL+/fvz33+8OHD6Nu3LypUqIBy5cqhcePG+Pnnn3NfO2jQIFSpUgXBwcGoV68epk2bVugx5YdFBYmIiLxB+fL2n+vdG1i4UL8fGWk/veGmm4BVq/T7NWsC//xjfYymuTpKAMCDDz6I/fv348cff0RYWBieeeYZ9O7dG7t370ZAQABGjhyJK1euYM2aNShXrhx2796N8tc/38SJE7F7924sWrQIlStXxoEDB3DZNkBzMwY7RERE5DAV5Pz+++9o3749AOCrr75CbGws5s+fj7vuugtHjhzBgAEDkJCQAACoXbt27uuPHDmCFi1aoHXr1gCAmjVrFvmYGez4gtatgc2bgc6dPT0SIiIqKhcu2H/Otk3C9X5RpvxsMlT+/tvlIZnZs2cPypQpg7Zt2+Y+VqlSJTRo0AB79uwBADzxxBN47LHH8Msvv6Br164YMGAAmjZtCgB47LHHMGDAAPzxxx/o3r07+vfvnxs0FRXm7PiC774DNm0C3nnH0yMhIqKiUq6c/UvZso4fe72fVL7HFrFHHnkEf/31Fx544AHs2LEDrVu3xgcffAAA6NWrFw4fPowxY8bgxIkT6NKlC5566qkiHQ+DHV9Qo4bM7lSt6umREBFRKdeoUSNcu3YNGzZsyH3s9OnT2Lt3L+Lj43Mfi42NxYgRIzB37lyMGzcOU6dOzX2uSpUqGDJkCGbOnIl3330Xn332WZGOmctYvmDlSuDsWaBtW6BaNU+PhoiISrF69eqhX79+GDZsGD799FOEhobi2WefRbVq1dCvXz8AwOjRo9GrVy/Ur18fZ8+excqVK9GoUSMAwKRJk9CqVSs0btwYWVlZWLBgQe5zRYUzO76gSxdgwADg5Zc9PRIiIiJMmzYNrVq1wq233orExERomoaff/4ZAQEBAIDs7GyMHDkSjRo1Qs+ePVG/fn18/PHHAIDAwEBMmDABTZs2RadOneDv74/Zs2cX6XgtmlbI/WclQEZGBsLDw5Geno6wsDBPDycv1fE1Oho4edKzYyEiIpdlZmbi0KFDqFWrFsra5uGQqfy+M0d/vzmz40vc0OaeiIiotGGwQ0RERCUagx1fwpkdIiIipzHYISIiKmZMl3WcO74rBju+hDM7REQ+Te1WumSvrxXlob4r9d25gnV2fEHPnsDixUD16p4eCRERFYK/vz8iIiKQdr3dQ0hICCz8h6wpTdNw6dIlpKWlISIiAv62LTOcwGDHF3zxBbB3L1C5sqdHQkREhRQdHQ0AuQEP5S8iIiL3O3MVgx1fEBMjFyIi8nkWiwUxMTGIjIzE1atXPT0crxYQEFCoGR2FwY4vWLxY8nU6dcrb4I2IiHySv7+/W37IqWBMUPYFvXpJ3s5HH3l6JERERD6HwY4vee89T4+AiIjI5zDY8XY5OZ4eARERkU9jsOPtjMlr3J5IRETkNAY73u7aNf02gx0iIiKnMdjxdtyWSEREVCgMdrwdgx0iIqJCYbDj7cqVAx5+WG4zWZmIiMhpLCro7UJCgLffBu64QwIfIiIicgqDHV8QHg706ePpURAREfkkBjve7uJFYONGaRPRrp2nR0NERORzPJqz88knn6Bp06YICwtDWFgYEhMTsWjRotznO3fuDIvFYnUZMWKE1TmOHDmCPn36ICQkBJGRkRg/fjyuGbdr+7pDh4BbbgESE4Fp0zw9GiIiIp/j0Zmd6tWr4/XXX0e9evWgaRpmzJiBfv36YcuWLWjcuDEAYNiwYXj55ZdzXxMSEpJ7Ozs7G3369EF0dDTWrl2LkydPYvDgwQgICMBrr71W7J+nSBh3Y40YATz0kOfGQkRE5IM8Guz07dvX6v7kyZPxySefYP369bnBTkhICKKjo01f/8svv2D37t1YtmwZoqKi0Lx5c7zyyit45pln8OKLLyIwMLDIP0ORMwY73IZORETkNK/Zep6dnY3Zs2fj4sWLSExMzH38q6++QuXKldGkSRNMmDABly5dyn1u3bp1SEhIQFRUVO5jPXr0QEZGBnbt2mX3vbKyspCRkWF18VrGJTlN4/ZzIiIiJ3k8QXnHjh1ITExEZmYmypcvj3nz5iE+Ph4AcN9996FGjRqoWrUqtm/fjmeeeQZ79+7F3LlzAQApKSlWgQ6A3PspKSl23zMpKQkvvfRSEX0iN7Odzbl2DSgJM1ZERETFxOPBToMGDbB161akp6fju+++w5AhQ7B69WrEx8dj+PDhucclJCQgJiYGXbp0wcGDB1GnTh2X33PChAkYO3Zs7v2MjAzExsYW6nMUGdtg5+pVBjtERERO8PgyVmBgIOrWrYtWrVohKSkJzZo1w3vvvWd6bNu2bQEABw4cAABER0cjNTXV6hh1316eDwAEBQXl7gBTF69lu7OsJO00IyIiKgYeD3Zs5eTkICsry/S5rVu3AgBiYmIAAImJidixYwfS0tJyj1m6dCnCwsJyl8J8Xv36QFKSfp/BDhERkVM8uow1YcIE9OrVC3FxcTh//jxmzZqFVatWYcmSJTh48CBmzZqF3r17o1KlSti+fTvGjBmDTp06oWnTpgCA7t27Iz4+Hg888ADeeOMNpKSk4Pnnn8fIkSMRFBTkyY/mPrVrA88+K9cBAUD58p4eERERkU/xaLCTlpaGwYMH4+TJkwgPD0fTpk2xZMkSdOvWDUePHsWyZcvw7rvv4uLFi4iNjcWAAQPw/PPP577e398fCxYswGOPPYbExESUK1cOQ4YMsarLU2LcfbenR0BEROSTLJqmaZ4ehKdlZGQgPDwc6enp3pe/c+qUVFGuWBGoW9fToyEiIvIajv5+e13ODtn4+WegbVugXj1g1izAm2sCEREReSEGO97OuPV80CDgxAnPjYWIiMgHMdjxdmZ1doiIiMhhDHa8nVkFZSIiInIYgx1vx2CHiIioUBjseDtWUCYiIioUBjvejjk7REREhcJgx9vdeCMwaZJ+nzM7RERETvF413MqwE03yaVlS+D8eaBRI0+PiIiIyKcw2PEV/fp5egREREQ+icGOtztxAjh7FoiMBKpU8fRoiIiIfA5zdrxdUhLQpIlUT/7xR+D4cU+PiIiIyKcw2PF2avfV0qWylPXrr54dDxERkY9hsOPtWFSQiIioUBjseDvW2SEiIioUBjvejhWUiYiICoXBjrfjMhYREVGhMNjxdlzGIiIiKhQGO97u9tuBceOAunXlPmd2iIiInMKigt5uyBC57tkTOHAAaN/es+MhIiLyMQx2fEXXrnIhIiIipzDY8XbHj8vSVWQkEBzs6dEQERH5HObseLs77wRq1gQ+/hhYvhzYv9/TIyIiIvIpDHa8ndp9NXWqLGN98YVnx0NERORjGOx4OxXslC1rfZ+IiIgcwmDH26mt5ipfh1vPiYiInMJgx9upmRwGO0RERC5hsOPtbIMdLmMRERE5hcGOt+PMDhERUaGwzo63GzIEOHMGCAyU+5zZISIicgqDHW83ebJcb9oExMUBjRt7djxEREQ+hsGOr2jTRi5ERETkFObseLuUFOCff4DsbE+PhIiIyCdxZsfbxcZKUvKWLUBmJhAWBsTHe3pUREREPoMzO95M0/TdV0uXAomJwLhxnh0TERGRj2Gw482MS1fcek5EROQSBjvezLjNnMEOERGRSxjseDNjYMNGoERERC5hsOPNjIFNSIhcc2aHiIjIKQx2vJkx2AkKkmsGO0RERE7h1nNvFhQEPPwwkJMDBATIYwx2iIiInMJgx5tFRACffy63Dx0CXn4ZiI726JCIiIh8DYMdX1GrFjBxoqdHQURE5HOYs+PNsrOBjAypnExEREQuYbDjzXbtAsLDZVbn8mVgxw5g505Pj4qIiMincBnLm6ndWGXKAPv2Ac2bS87OyZMeHRYREZEv4cyON1PBTkCABDwAd2MRERE5icGON1OBTUAAt54TERG5iMGONzMuY3Fmh4iIyCUMdryZ2TIWe2MRERE5hcGON3P3MtasWcA99wBTpxZ+bERERD6Cu7G8WVQUcPfdQO3a+sxOdjagaYDF4vz5xo4FUlOBb78Fhg1z71iJiIi8lEdndj755BM0bdoUYWFhCAsLQ2JiIhYtWpT7fGZmJkaOHIlKlSqhfPnyGDBgAFJTU63OceTIEfTp0wchISGIjIzE+PHjca2k5LW0agV88w2QlASUKwc8/TTw739LsOMKFickIqJSyKMzO9WrV8frr7+OevXqQdM0zJgxA/369cOWLVvQuHFjjBkzBgsXLsScOXMQHh6OUaNG4Y477sDvv/8OAMjOzkafPn0QHR2NtWvX4uTJkxg8eDACAgLw2muvefKjuV9ICPCf/xTuHJcvu2csREREPsSiaa5OExSNihUr4s0338Sdd96JKlWqYNasWbjzzjsBAH/++ScaNWqEdevWoV27dli0aBFuvfVWnDhxAlFRUQCAKVOm4JlnnsGpU6cQGBjo0HtmZGQgPDwc6enpCAsLK7LP5rTsbLn293fP+YxLXzk5ri2FEREReQlHf7+9JkE5Ozsbs2fPxsWLF5GYmIjk5GRcvXoVXbt2zT2mYcOGiIuLw7p16wAA69atQ0JCQm6gAwA9evRARkYGdu3aZfe9srKykJGRYXXxSjNmSK5O376ydPXXX1JJWQVBzrB9zaVL7hkjERGRl/N4sLNjxw6UL18eQUFBGDFiBObNm4f4+HikpKQgMDAQERERVsdHRUUhJSUFAJCSkmIV6Kjn1XP2JCUlITw8PPcSGxvr3g/lLsY6OwBQpw7QoAFw+rTz57J9TXp64cZGRETkIzwe7DRo0ABbt27Fhg0b8Nhjj2HIkCHYvXt3kb7nhAkTkJ6enns5evRokb6fy4x1diwWfTnLlQRsm8RueOtsFhERkZt5fOt5YGAg6tatCwBo1aoVNm3ahPfeew/33HMPrly5gnPnzlnN7qSmpiI6OhoAEB0djY0bN1qdT+3WUseYCQoKQlBQkJs/SRFQQY2a2QkIkOUoV4Kd+vWB7duB554D2rYFKlRw3ziJiIi8mMdndmzl5OQgKysLrVq1QkBAAJYvX5773N69e3HkyBEkJiYCABITE7Fjxw6kpaXlHrN06VKEhYUhPj6+2MfudsaZHaBwVZSDgoCEBODHHyXgsVn+IyIiKqk8OrMzYcIE9OrVC3FxcTh//jxmzZqFVatWYcmSJQgPD8fQoUMxduxYVKxYEWFhYXj88ceRmJiIdu3aAQC6d++O+Ph4PPDAA3jjjTeQkpKC559/HiNHjvSNmZuC2At2SkodISIiomLg0WAnLS0NgwcPxsmTJxEeHo6mTZtiyZIl6NatGwDgnXfegZ+fHwYMGICsrCz06NEDH3/8ce7r/f39sWDBAjz22GNITExEuXLlMGTIELz88sue+kjuZbuMVZiZnR9/BHbsAJo0AWrWBKKjObtDRESlgtfV2fEEr62zM2uWXHr3Bv71L6BqVeDkSWDLFqB5c+fO9dBDwPTp+v133gFGj3bjYImIiIqXo7/fHk9Qpnzcd59clKFDgfPngUqVnD+X2o0VGAhcucKt50REVGow2PElr7zi+mtVsFOvHrBrF4MdIiIqNbxuNxYVEWOwA7DODhERlRoMdrzZ448DZcsCqqnp6dPA8ePOdy/XNEBtz1fBDmd2iIiolGCw480yM4GsLAlWAKBLF6B6deDXX507z9mz+g4uzuwQEVEpw2DHm6mt54UtKqiWsMLDgchIuc2ZHSIiKiWYoOzNbBuBulpUsHZtqbGTkQFUrAg89RRwvUUHERFRScdgx5vZVlBW184GO0FBUkxQefPNwo+NiIjIR3AZy5vZW8ZiuwgiIiKHcWbHm9lbxnI2Z2fBAmDrVuDmm4HERODoUcnZadIE8GO8S0REJRt/6bxZQgLQuTNQrZrcd3UZ64cfgIkTgeXLJVCqWRNo1ow7soiIqFTgzI43mzzZ+n6PHhL4OJtcrHZjRUVJ/o5qGZGRAUREuGWoRERE3orBji958knXXmcMdgDZgn7qFLefExFRqcBlrNLANthRnWG5jEVERKUAgx1vdsst0uF86VK5n5kp1ZAvX3b8HMZWEcaZHYAzO0REVCow2PFmZ88CZ84AOTly/9FHpSjghx86fo4LF/TgyDbY4cwOERGVAgx2vJnadVWYCspqCatcObkAXMYiIqJShQnK3sxeBWVn6uzExQE7d1ovWfXrJzu6EhLcM04iIiIvxmDHm9kGO67M7AQGAo0bWz/20EOFHxsREZGP4DKWN3PHMhYREVEpx5kdb+aOZayffwaSk6US8403ymOXL0udHX9/vTozERFRCcWZHW/WsiXQpg0QGir3XZnZ+eknYNIkffs6AMyYAdSoAYwa5b6xEhEReSnO7HizBQus77doAdx3nwRBjrKtsQNw6zkREZUqDHZ8yd13y8UZttWTAX3rOYsKEhFRKcBlrJLOLNjhzA4REZUiDHa8WWys5NaopShNk+TkK1ccPwdndoiIqJRjsOOtcnKAY8eAI0cAv+t/TO++K3VzHn7YsXNcvgycPy+3ObNDRESlFIMdb2XcXu5qnR01qxMUpM/mAPrtzEznZomIiIh8EBOUvZUx2LGtoOxonZ1q1YBdu4Bz5wCLRX88NBR45BGZ4cnOdstwiYiIvBWDHW9lnL1xtV1EQAAQH5/38TJlgKlTCzc+IiIiH8FlLG9lNrPjSgVlIiKiUo4zO95KBTT+/voSlLMzO4sXAxs3AjfdJBej8+eBs2eBSpWAcuXcM2YiIiIvxJkdb+XnBzRrBjRtqj/mbM7OwoXACy8AS5bkfa5rV9nWvnx54cdKRETkxTiz462io4GtW60fq14duO02ICHBsXOY1dhR1PZz1tohIqISjsGOL+nYUS6Oyi/YUdvPWWuHiIhKOAY7JcXPP+v5OZ07A3366DND+c3sMNghIqISjjk73mrXLqBePQlcHLFoEfDSS8CKFcCvv8p9FcjkN7PjyDLWV1/JONRMkaMOHJAK0ERERB7EYMdbXbwowcKhQ/pjq1dLuwhj0rJy+bJcly0LJCYCX38t1+3bS9Bky5mZneefl/eeOdPx8WdkyPvWqCGtL4iIiDyEwY63UjuuVG0dQHZo2WsEqoKd4GB5zcCBwNq1wO+/W59DcWZmp3lzuS5f3uHh49gx/TZbUhARkQcxZ8dbmQU7+dXZycyU6+Bgx87fvLm0jGjXruBjVZBz4YJj5wb0MUZGymwTERGRhzDY8VYqWDALdszq7Bhndhxxyy1yKYimAcnJctuZbepqeczYgJSIiMgDuIzlrZyd2XE22HFURgawZ4/cPnPG8dedPy/XDHaIiMjDGOx4KxXslDFMvqnAxx3BTk6OzNScOJH/ccYAx5kO6Wpm548/gDVrHH8dERGRm3EZy1sFBwN16gCxsfpj+c3sfPml9Loy23llZu9e6YhesSJw+rT944zPOZOzY9zl5cyMEBERkZsx2PFW3brJ1nOj0FCgSxfzpaH69Z07v3E3lqbpzUZtGQOVLl0cP3+3bvptFi4kIiIP4jKWL6lWDVi2DJg7t/DnUnV2srP1JTAzKtjp3Bl48EHHz1+zJnDnnXKbwQ4REXkQZ3ZKirfekhmahx+WpamClCsnszmaJrM7ISHmx6llrEqVnB+Tmj1SycpEREQewJmd4rJzJ9Cvn+TK/P03cPBg/sd/953Uwhk3zrHzT5oEjB8PnDvn2PEWi2PNQI3LWCdPOnZuQFpWLF5c8PmJiIiKGIOd4qBpErT8+CPQsCFQqxbw6qv5vyYtDdi2TQIj5exZoEIFyd0xJilrmmtbz9VSVn71c265BbjtNuD776X1hKM++EDf6cVgh4iIPIjBTnFYtAj45RfpazV9ujw2bx6QlWX/NWZ1dvz9ZebmwgXrYOfqVQl4AOeCHUdmdjp0AJKS5Laru7EqV3b8dURERG7GYKeoXb2qL0U98QTwwAOSaJyeDixZYv91+VVQNj4PWCcYOxPs9O8PDB0qLR3y40q7CBXszJsn3diJiIg8hMFOUfv0U+DPP2V24/nnpZnnXXfJc998Y/91+VVQBsyDHYtFZo8c9corwP/9n3kXdeWPP4C//pLbmZnmNX7MsF0EERF5CY8GO0lJSWjTpg1CQ0MRGRmJ/v37Y+/evVbHdO7cGRaLxeoyYsQIq2OOHDmCPn36ICQkBJGRkRg/fjyuOfqjXJTOngVeeEFuv/yyniMzcKBc//ADcOmS+WvNKigbbxv7Y6lgp2xZ+/VyXHXvvcDNN+v3HZ3dYbBDRERewqPBzurVqzFy5EisX78eS5cuxdWrV9G9e3dcvHjR6rhhw4bh5MmTuZc33ngj97ns7Gz06dMHV65cwdq1azFjxgxMnz4dkyZNKu6Pk9f778tupsaNgWHD9MdvuEHq0Fy8CPz8s/lrzZax/PzkYnwecL0vVk6OBCX5bQ23rX7sbLDToYPU6CEiIvIQj9bZWay2Jl83ffp0REZGIjk5GZ06dcp9PCQkBNHR0abn+OWXX7B7924sW7YMUVFRaN68OV555RU888wzePHFFxFosqyTlZWFLENycEZR7RZ65hkJQFq2tJ6VsViAu+8G3nhDtpir4ntG5coB0dGy+8ooIEASm43BTs2awG+/SfDijGefBd58Exg7Vur02MrJcS3Y0TQ9gLpyRZbxiIiIPMSrcnbSr2+BrmhTFO+rr75C5cqV0aRJE0yYMAGXDEs/69atQ0JCAqKionIf69GjBzIyMrBr1y7T90lKSkJ4eHjuJdbYf8qdypYFnn4a6No173NDhwKzZknOjJmnn5a6NrZb1Nu3B2680Tp4CgmRGZQbb3RufAXtxsrI0AOoRx6R2aly5Qo+r6ZJPtLzz8t9FhUkIiIPcinYmTFjBhYuXJh7/+mnn0ZERATat2+Pw4cPuzSQnJwcjB49Gh06dECTJk1yH7/vvvswc+ZMrFy5EhMmTMD//vc/3H///bnPp6SkWAU6AHLvp6SkmL7XhAkTkJ6enns5evSoS2MulPr1JR9G7XRy1IoV0kU8JqbwYygo2FGzOiEhwNSpwGefWTcmtcfPT2arRo+W+5cuOZ7YTERE5GYuLWO99tpr+OSTTwDIzMpHH32Ed955BwsWLMCYMWMw14XeTSNHjsTOnTvx22+/WT0+fPjw3NsJCQmIiYlBly5dcPDgQdSpU8eV4SMoKAhBQUEuvdYrHTgALFgA1KgB3H67468rqKigCnYcaT9hJjRUv33+fN4lOSIiomLg0szO0aNHUbduXQDA/PnzMWDAAAwfPhxJSUn49ddfnT7fqFGjsGDBAqxcuRLVq1fP99i2bdsCAA5c7wgeHR2N1NRUq2PUfXt5Pl7j2jXgtdeANm3ytnn4z39kaWrGjILPs2ULMGYM8O67zr2/CnbszewY+2JduyZjzK9pqHLqFPDtt8C6dYAKKrmURUREHuJSsFO+fHmcvv5D+Msvv6Bbt24AgLJly+KyIz+G12mahlGjRmHevHlYsWIFatWqVeBrtm7dCgCIub6Mk5iYiB07diAtLS33mKVLlyIsLAzx8fEOj8UjypQBZs4ENm+W5SmjffuAtWv1lgvKDTcAUVHSSkJxdTeWWsayN7NTp47kDA0fDtxxh8zMfPVVwefdvh245x5g1CjHqjQTEREVIZeWsbp164ZHHnkELVq0wL59+9C7d28AwK5du1CzZk2HzzNy5EjMmjULP/zwA0JDQ3NzbMLDwxEcHIyDBw9i1qxZ6N27NypVqoTt27djzJgx6NSpE5peL4TXvXt3xMfH44EHHsAbb7yBlJQUPP/88xg5cqRvLFXVqwfs2QP884/142ZFBQGZNUlLkwJ/iqvBTkEzO3XrAs89J7fV8qIju7GMNXbCwmQZzNmdYkRERG7i0szORx99hMTERJw6dQrff/89KlWqBABITk7Gvffe6/B5PvnkE6Snp6Nz586IiYnJvXxzvbJwYGAgli1bhu7du6Nhw4YYN24cBgwYgJ9++in3HP7+/liwYAH8/f2RmJiI+++/H4MHD8bLL7/sykcrfvZmPsyKCgJ68GNWZ6dsWefeOzpaEokdyfNxpmWEWrIKDQV+/122nudXpZmIiKgIuTSzExERgQ8//DDP4y852QNJU80r7YiNjcXq1asLPE+NGjXws73ifN5OJfHa5rSYFRUE9ODHrIKyszM71aoBc+bYf/7AAdlJFRfnXLDD6slERORFXJrZWbx4sdWuqY8++gjNmzfHfffdh7Nnz7ptcKVCQTM79oIdd1RQLsjLLwPNmsm2cwY7RETko1wKdsaPH59bdXjHjh0YN24cevfujUOHDmHs2LFuHWCJ5+wyltnMjsrfcSXYUS0jsrPzPmfcjeVqsPPii7KE9cUXzo+NiIjIDVxaxjp06FDuTqfvv/8et956K1577TX88ccfucnK5CC1jGXTDwzBwfKcbR6OWc7O8OFAly6y3OSsmBhJeN65U3p4GRnr7KiAyplgJzQUSEkBduwAjh1zfmxERERu4FKwExgYmNuyYdmyZRg8eDAAafNQZH2mSqrhw6UNg+3Ose++Mz++YUMJdIyVl+vWlYsrQkMl2DFbflQzOxUryizNwIHA9TpH+RoyBGjVCmjeHJg9Wx7j3wsiIvIQl4Kdjh07YuzYsejQoQM2btyYu3tq3759BRYFJBvObo93pMigM+LigIMHgb//Bjp2tH5OzexUqiSzPrfc4tg527bVgyKVOM5gh4iIPMSlnJ0PP/wQZcqUwXfffYdPPvkE1apVAwAsWrQIPXv2dOsAyQGLFklD0X37nH9t7dpy/ddf1o/n5OizPa62iwBYVJCIiDzOpZmduLg4LFiwIM/j77zzTqEHVOocPgxMnCgzPFOn6o+PGCEByGuvAa1b53+ODz6QgGfaNGkw6gx7wU56ul4IUAU7167Jzi9jzyszy5bJa9u0YbBDREQe51KwAwDZ2dmYP38+9uzZAwBo3LgxbrvtNvj7+7ttcKXC5cvA//4nrRiMwc66ddJ2Yfx46+NHjACWLgWSkoC779bPAThfVBCwH+yUKQNMnixBSlCQJBk3bSqtKux0k8/12GNSo+e33/Rgh72xiIjIQ1wKdg4cOIDevXvj+PHjaNCgAQAgKSkJsbGxWLhwocvdyEsl48yHpgEWi9y3t/U8NVUCE2NCcWHq7Khg5+BB68dDQ4F//1u/X66cXDsStBi3nl+5Iju+CrMURkREVAguBTtPPPEE6tSpg/Xr16Pi9R+x06dP4/7778cTTzyBhQsXunWQJZoKdrKzJWgJCZH7BVVQdldRwbp1gdtuk6afxmDLltr9demSjDW/GTzj1vOEhLzNTImIiIqRS8HO6tWrrQIdAKhUqRJef/11dOjQwW2DKxXKlZMAQ9MkSFDBjr0KymZ1dgpTVLBiReCHH/I+npoqy1UxMUBkpPVW90uX7OftXLmij4cVlImIyAu4tBsrKCgI502WMy5cuIDAwMBCD6pUsVjM+2MVVEG5qNtFzJkjdXJGjtTP7Xf9r0t+hQWNn6GgRGYiIqJi4FKwc+utt2L48OHYsGEDNE2DpmlYv349RowYgdtuu83dYyz5VFBg3LFUUG8sdzQCVTQNOHVKZnMUY6sIQIIyR1pGqM8QHCxjv3QJuPFG6bGlZnyIiIiKkUvBzvvvv486deogMTERZcuWRdmyZdG+fXvUrVsX7777rpuHWAqYbc/295eZFEeWsWbOlIrLrrSLAIDnnpOlqqQk/TFjqwjFmWBHfaagINmVtX07d2QREZFHuJSzExERgR9++AEHDhzI3XreqFEj1HW1ZUFp9/vvMhNirKZsL6k3Olpq6URE6I/16FG491dBknH7ue3MDgD07i3BjNqZZaZqVdlCrxKd/f0lSLpwQV5bpUrhxkpEROQkh4OdgrqZr1y5Mvf222+/7fqISqMKFRw/9qWX5OJOZrV2zGZ2jHWA7KlSBXjkEevHQkP1YIeIiKiYORzsbNmyxaHjLPa2LlPRyMoCvv5aZobuuktPInaGMdhR28/NZnZcFRYGnDzJZSwiIvIIh4Md48wNudlXXwG//AL07w/cfrsEHP36STLytGlAeLj91549Czz0kAQoqqKys+LiJEi6fFnfbm42swNIG4icnLy7xJS//pLqyTVqANcLTrJlBBEReZJLCcrkZhs3Al9+CWzeLPevXQN++gmYN0/vT6V89JG0bXjtNblvbBXh6qxaYGDevJ1Ro4Bx44BatfTjHnhAcnA++cT+uebOlRyiV1/VHzPbbUZERFRMXO6NRW5k2z/KuNPKdgbl1CnpU9Wxo9wvTEFBo9q1gb//lrYRHToATz6Z9xhVQ8mZ3ViA7PSKji7c+IiIiFzEYMcb2M58GGvoFFRnx10FBW+/XVo75Nc13ZGt5ypgMwY7X39duLEREREVAoMdb2Cb05JfsGNbZ8ddwc6oUfrtS5eA/fuBypWBatX0x12ps0NERORhzNnxBrbtIozBju3uKtt2EcacHXfZsUNaRdj2OWOwQ0REPojBjjewN7MTEJA36bioZnY0Tbab//GH/Z1YrgY7c+YAnToBL75YuDESERG5gMtY3sA22FGBjO0SFpA3Z6dVK2D27MLPpJw9K8tWAPDpp3JtW2NHBTv51csxC3ZOnQJ+/VUSlYmIiIoZgx1v0K6d1LdRy1k1a0rAY1zOUsLCJI9GVV2uWhW4557Cj6FCBannk54OJCfLY7YzOzVrAj17Aq1b2z/PuHHA4cOS7Kxw6zkREXkQgx1vEBQEREXp9y0WqWfj75/32Pvvl4u7WSyy/XzLFr3ej22wc/PNcsnPnXfmfcx2az0REVExYs6Or/vzT+l47mA7j3zVqSPXf/wh1+5oFQGwgjIREXkUgx1vkJ0NPPEE8OCDwMWLUthv4EBg9OiCXzt/vvTE+uCDwo9D9chSbGd2FE2z//jSpcCGDdaFEbmMRUREHsRgxxv4+UkLhhkzgHPnJKH3m2+AH3/Me+yqVUBiIjB8uNx3124swDrYGTcOuOEG6+cPHZLAxV6X9osXge7dJQfpyhX9cc7sEBGRBzFnxxtYLBJEnD0rAYFx67mtc+eA9ev1+jtFEew0agT89795nw8Olm3nFoveHd1I5eT4+1uPJyxM7pcrZ/46IiKiIsRgx1uEhTkW7NhrF+GOooLx8cDjj0uwY0ZtPdc0ed+QEOvnjdvOjQFNdLRUZSYiIvIALmN5C+OOJZXvYtsE1PiYu4sKArKl/f33pcno0aOSS2RkDG7MCguyejIREXkhBjvewpjXkt/MjnrM3Y1AlexsoFkzIC5OKiob+fnJUhRQcoOd9HRg+nRZLiQiohKBwY63cDTYsZ3ZycyUa3cFO3//re+2MktEzq9lhAp21O4ro6FDgZtuAnbudMswi8yjjwIPPSTjJSKiEoHBjrcwNgN1Zhlr1Cjg//4P6NzZPeMYNky/bRZsORLsmM3sbNwIrFkDpKYWfoxF6Ztv5HruXM+Og4iI3IYJyt7i/feBd9+V2jb+/vaXUYKCgIgIPaBwpKqxM8LD83++QwcpPmibnAxIn67//heIjc37nK/U2qlSRbb+P/KIp0dCRERuwmDHWxjbRQD2g47WrWXXVlFp2VIKFdozY4b955o0kYsZX6m1Exkpwc7dd3t6JERE5CYMdnzdypVSwK9NG/sVj53x1FPAsWNAv36FP5eRr/THOnlSrmNiPDsOIiJyGwY73uL334FvvwUaNwbq1QNmzpQAZsSI/F83YgSwb5/kw9x4Y+HHERwMfPqpa6/980+ZualVS5aDjOzN7CxfLjNVZg1Ei1tWFnDmjNz+7Tegfn0gMNCzYyIiokJjgrK32L1b8nYWLAB27QK++AJYsSLvcSdOAF27Ar17y313bz0vyOjRssRmVmH51VeBtm2B//0v73PGBGzl8mX5LHfdBezdWyTDddq0aXL92GPA8eOeHQsREbkFgx1v4ejW8ytXZDZk9Wq5784Kyo64dk3GaJZ7k99urLAwGWNOjvW5lA0b3DtOVwQFSTPWmjXlfkqKJ0dDRERuwmDHW5htPXekzk5xz+yoredmuTf5BTsvvihj/c9/9MdCQ4GxY+X2+vVuHWahqHwdlb9DREQ+jTk73sJsZie/OjvqGHcXFSyIq3V27DX/bNdOrr0h2Nm7V4oqqgCSMztERCUCZ3a8hbMVlDVNEmpV/ypvCnbMKijbys4GZs2SflwAsH07cPGie8boqpkzgZ49ga1b5T5ndoiISgQGO97C0WUs42PGpaTiCnbUOJ2d2dm6FejbFxg+XO5v3w4MGgT06iXLRtnZwObNRTJkh6ngJijI+j4REfk0LmN5CxUgXL6sL6Pkt4wFSGPOKVPkePUDXdRcXcY6f152mtWrJ/d/+02u27eXcy5d6vngQr1/ixayrMZlLCKiEoHBjreoUEHq1ISFyY//2LHmszVlykjtlzJl5PLoo8U7zpgYIDFR6gEZaRrwyisS8FSqlPd1tnV2fv1Vrjt2BEaOlOf9PDzRqIKdu+8GHngAaNTIs+MhIiK3sGiaanFdemVkZCA8PBzp6ekIM5uVoMI7dAioXVsCuIsXgapVZeZk9WqgUydPj07ExMiYkpOlbQYREXk1R3+/mbPjy9LTgWXLPJ/r4gjjMt2+fRJUBARIlWgjT8Xe2dlAWprcZqsIIqIShctY3uS992QGpEIF4PRp4LbbpMKwPTt3At26SRfyAweKb5xmzp+XZbiKFWU8tow7tH7+Wa7btNGX6l58EfjyS6nCfN99RT7cPNLSpOChn580A/39d6mg3Lu3nqdEREQ+icGON5kxA9iyRTqgp6YC1aubBzv33CMJwvfeK/eLaycWIONq3Vrq+6Sl6fVztm6V5ah69WTmxlZgoCRRZ2XpwY6xl9fZsxLorV/vmWCnfHlg+nSZLfP3BwYMkM+6ZQvQvHnxj4eIiNzGo8tYSUlJaNOmDUJDQxEZGYn+/ftjr02PpMzMTIwcORKVKlVC+fLlMWDAAKSmplodc+TIEfTp0wchISGIjIzE+PHjcc3YisBXqNkP1YzSbOs5ACxaJAHDqVNyvziDnbJlpSv6P/9I6wolv51YSliYBDwTJkjT00GD9OcSE+XaU8UFQ0OBIUOAJ56Q+6yiTERUYng02Fm9ejVGjhyJ9evXY+nSpbh69Sq6d++Oi4bicmPGjMFPP/2EOXPmYPXq1Thx4gTuuOOO3Oezs7PRp08fXLlyBWvXrsWMGTMwffp0TJo0yRMfqXBUoJBfBWVAD4JUnZ3iDHbKldNvG7efOxLsHD8uM0K33CLNPxMS9OdUJeUtW/St954UHS3X3H5OROTzPLqMtXjxYqv706dPR2RkJJKTk9GpUyekp6fj888/x6xZs3DLLbcAAKZNm4ZGjRph/fr1aNeuHX755Rfs3r0by5YtQ1RUFJo3b45XXnkFzzzzDF588UUEBgbmed+srCxkZWXl3s8wa2rpCbaBgr2ZHRUEeSLYKVNGZncyMyXYUdvMHQl27H0eAKhRQwKMlBTgjz+ADh3cN2ZHbNsmszjx8UBcHGd2iIhKEK/ajZWeng4AqFixIgAgOTkZV69eRVdD3krDhg0RFxeHdevWAQDWrVuHhIQEREVF5R7To0cPZGRkYNeuXabvk5SUhPDw8NxLbGxsUX0k59i2WbAXHHhyZgcwLyyoxlLQ1v2pUyUJ2Wa5EhaLvpR1/c/WKRs3AhMn6rNizvrsM6nmPHWq3GewQ0RUYnhNsJOTk4PRo0ejQ4cOaNKkCQAgJSUFgYGBiIiIsDo2KioKKdeXF1JSUqwCHfW8es7MhAkTkJ6enns5evSomz+Ni2wDBXvLWOpxNZtStmzRjcmMWbDjyMzO229Lu4iJE2X2xlZhmoK2bStB1LvvOv9aQA9qVJCjlrEY7BAR+Tyv2Y01cuRI7Ny5E7+pNgJFKCgoCEHF1V7BGY4uY6nHExOBVq2A+vWLdly2XA12Vq3Sbxt3YikdOsjOp/h458Zz9qx+WzXxdJZtsMOZHSKiEsMrgp1Ro0ZhwYIFWLNmDapXr577eHR0NK5cuYJz585Zze6kpqYi+vq/vKOjo7Fx40ar86ndWuoYnzFsGHDnnVLgLjBQtqCbUTM7TZsCN91UfONTmjaVRGXjjFKPHrIMl1815N279duGP+dcHTpIgrKzfv9dv612qDlLBTXq70ybNsDHHwN167p2PiIi8hoeDXY0TcPjjz+OefPmYdWqVahVq5bV861atUJAQACWL1+OAQMGAAD27t2LI0eOIPF6fkdiYiImT56MtLQ0REZGAgCWLl2KsLAwxDs7Q+BpUVH2Axyj7dulFoynekl99VXex3r1kkt+qlcHDh7MP1HZFQ0bSkf1n36S78ZZmpZ3ZqdGDeCxx9w3RkdlZEjOUpcu9pcxiYjIKR7N2Rk5ciRmzpyJWbNmITQ0FCkpKUhJScHl61uPw8PDMXToUIwdOxYrV65EcnIyHnroISQmJqLd9fyO7t27Iz4+Hg888AC2bduGJUuW4Pnnn8fIkSO9c6nKHQICJNDZv1/yW3xlqWXKFNlynpyc/3GZmbI7ylF16wJffy07wxo0AC5dMj8uJ8d6yUs5e1avGeTp2cD+/YGePSW/iYiI3EPzIACml2nTpuUec/nyZe1f//qXVqFCBS0kJES7/fbbtZMnT1qd5++//9Z69eqlBQcHa5UrV9bGjRunXb161eFxpKenawC09PR0d3001/z9t6ZNmqRpMTGa9uyzmrZ/f/7HDx2qaYCmvfpq8YzPnqQkTfvpJ01z4ju3a/16TQsMlM81Y4Zzr83Jyf/5yZPlvIsXWz++c6c8XqGC9eNr12ra7Nma9s8/zo2jMGSeSdPq1Cm+9yQi8lGO/n6z6zm8qOv5+vX69msAWL5cCvDZevFFyX/ZulVmd956Cxg7trhGCbz8MvB//weMGgUMHizLU9nZwJ49sqRUWE8/Dbz5pizjLFwIdO9u/9g9e4BduyThuaAlQNXaIiYGOHFCf/z0aWDBApndGTZMf7xBA2l9sXIl0Lmzyx/HKWqM9tpuEBFRLnY990WO7sZasQKYM0cCHaD46+xcuAAcPSq9sWbOlECnXTv3BDoA8Prr0h/r2jXpUWW2TV35+mtZGhs/Xn/MrNbO9RpOAABDhW4Asvw1ZIh1oAN4dkfWBx8U/3sSEZVQDHa8iaN1dmyDIE8VFTx/Hpg2TW4/9JD7zu/nJ+e95RYJrPr0Af7+2/zYNWvkulMnmRmrU8d6dkzZsEG/feiQY+NQwU5xtYzQNNmFB7gvcCQiIgY7XsXRCsq2QZCnigquWiXLaWXLSid2dwoMBObOlW3uKSmStKuqNCuZmXoBwk6dgCpVgL/+AnbulFkhI7U9/f77gesVunNt2CDNVY8ft368uGd2MjOlX1hcnHwWIiJyCwY73kQFEYqjwY6nZnZUTskddwDh4e5/n/Bw6e5evbosTf31l/XzmzYBWVmSq1OvHlCrltT/ycrSl/gU1Z6iffu87/POO0Dv3tKJ3ciZKspXrlgXWbSVmSl1e+bOleU/M8HBkjs0fLjrlaCJiCgPBjvexN/fOuApqF2E4qlgR3HnEpatatVkBunPP4FmzayfMy5hWSyy/HW91Qh27LA+dvZs4PBhOfb554ERI/TnbGvsKI4uY+XkSFFF28Rnoz17gJEjJQfpv/+1f64zZ2R8+R1DREROYbDjbYxLWQW1i2jRQnZm1atX5MOyYgx2YmPNd4y5U5065t+FMdhRmjaVa7PignFxkhc1ebLsJlMzMQUFOwXN7MydKwHZhQuSPG7GOJ7rFb5NqS7y585J4jcRERUagx1vs2gR8N13kotSo4b5MWpm58EHgRdekOWb4lS5MtCokeTpJCcXXyXnK1ekO/np05KTo/JwHA12AAnO4uIkkFBJy/aCnYQE4JNPZBu8PdnZwKRJ+n17O8eMM032gp2vvgJuuEFua5r1DjIiInIZ69F7m2bN8i7X2Pr8c5mZKO7EZKV9e+s+V8XlrruAH3+U3VRJSVJf57ff9KUrwDzYefxxWcJ65hnpv9WxIzBrlry2bVt9hsc22ImKsl7uMrNokSxRKfaqQzsS7Bw9Chw5ot8/fTpvMjURETmNMzu+qFw5WUravl1+8M3qypREQ4fK9QcfSJJvjRrAoEHWM0sJCdIJvksXfRlowQLpm3W9DQk6dpTrX3/VZ3XKlcu7G84RffoAixcDEyZIx/YWLcyPc2QZy7aJ6Zkzzo+HiIjyYLDjbebPl2TbPn30H2czmiaduZs0Af75p9iG51F9+8pnvngReOMN82MqVAA2b5bZL39/SRj++28JiNq2lWNUsLN+vcymAHlndZQNGyS52V7ejsUiycmvvSYd2812Uf3zj3WSc1qaJDXbsg12Tp82f08iInIKgx1v8/XXcv3zz/ZnbL76SurFqB9MTy1nFTeLRVpVANIiY9y4vNWQba1dK9dNm+ozN40bAxER8tpLl4Avv5REbzNPPgncey+wcaP145mZjs+8qCWs2Fi5zs42f60zMzu+0vyViMgLMNjxNsZt5Pa2nm/YIDknZq8p6Xr0kARpQDqDq4rDtq5ckVkdFewY6+v4+UnuToUKkuj8wAOyHGbGXq2djz8GateWBGbb97U9tnVr6XP20UdSQ2fcOL0HlpEKdt54Q7q+33ab+Zg++gioWhX48EPz54mIyAoTlL2NMXBxpKigxQIEBRXtmLyJxSJbvbt0kd1gZt/RwoVA//6y5KXydmyLCX75pczuFLSTzGz7+fnzkiCdnm4dbM2fL2Pq0MF6C3poqL49v29f+++lig3edJOeaG3m++/lOr+2F4cOAY89Bjz1FNC1q/3jiIhKAQY73saRmR3jD3zZsuazBCXZjTcCx45JsGKmVi2ZsTEuPXXoYH2M2uW0Zo3sxmrZUp/FMbINdnJygEcflTycevWkgahSs6bM7Pzxh+RUOfvnUrOmBF8FdW8vV06u8+ufNXSodGtfskTGQkRUinEZy9sYgx17P5bGIKi05OvYioy0v4RVr548l50twUrt2vZrFr36qiSD//KL+fMqAFIJxs8+K3lVZcoAU6ZY/1k0bizvm56ut7bIyQH+/W/pDn/lilyOHcubnwNI4PX33/L6yZPlNWbUWMyCM8W4HZ6IqJRjsONtHMm/Mf7AlqZ8HUcFBADx8XL7ww+lT5ZZ4Dh5MrB0qdy2txvLOLPzwQd6gcHPP89bOTogQF9+UvV2VE2gRx6RWZvx4yVR+e237Y9/yxZpGWEv2Nm5U66nTLF/DjWOZ5+1fwwRUSnBYMfbOBvsjBpVdGPxZcbigvbycoyNOwsKdjZvlp1ZgARJgwebH9+qlVyrSspqJ1Z8vPy5qSUqR1pGmG09z8mRnWCA7Nizt0SVlSXXBRWoJCIqBZiz423uvVdmCNSOIzMqZ+fhh6WYHeWVkCDX9tpGAJLArNgLdurWlRmUatVktiY1Nf/vvGVLuVYzO+r9VfAVGSnXtsHO0qVSrblTJ2DYMHnMbOv52bPW98+dk11lthxZ6iIiKiUY7HibqlWBJ57I/5hRo6TTuEpUpbxUjs5339lPFu7cWa4jIuy3ZYiIkIRkALj11oITj9XMTnKyHKtmdlTwZW9m5/hxyfOpV08fi9nMju3rUlLMgx01s/PGG1JMkcudRFSKMdjxReXLy24jtSOJ/3rPq18/YOBAmb2xF5xUrCg5NYGBju+cKui4Jk2kh1fLllIU0tFgRyUsR0bqy1jp6fLnbFy2rFtXWoQ0bqyfp1GjvOP46y+pIL1okewcUwUNiYhKIQY7vurHH2Xbc/fusr2YrAUG6tWo81OzpnvfNygI+PZbuX35siRHA/oylgp20tKsZ4lUsFOlivVMzdmz8pgSGCj5PzfdBKxebd2GwshikfdKSZEZIgY7RFSKMUHZF61dqzfF5PKE99q9WxKKK1fWgxx1feWK5NsoxmCnTBkgPFzu22sZ4Uiic37LYUREpQhndnzRnj2yvAEw2PFGmibLSBcuAIcPSz6OmsEpW1YSkFUwoxiDHUA6qZcrl3fmaf58WRpT1ZPNZnaWL5fGpLt3y30GO0RUyjHY8UWss+PdNm8GbrhBApfUVCAuzvr5zz7L+xrbYKddO/Nzz5snrS4efRSYOjXvuQFg717rdhWONix11aFDwKRJklw9aVLRvhcRkQu4jOWLjO0iGOx4n4QESQ4+dUqSyB1RtarsICso2VzN5CQmSg2d/LadK0U9s3PwoBRAVLlKRERehsGOL+LMjncrW1bfLdW3b97aOFeuAEePWreMmDdPWkXccIPcX7ZMiheuXm39Wkfq5zga7OTkyPs6GpDZoxqY7tqlJ2S7ascO4IcfCncOIiIbDHZ8kW0jUPI+anlp27a8ndnHjpXn33vP/uvnz5eWEcuWWT+uEpIDA4HXXwcmTsz7WtW0dOJECR6ef978PebMAe64A2jevKBPkz9jkvS+fYU7V9Om0rF+8+bCnYeIyIA5O77IOLNj282bvEP16vrt8uWtn3N1J1V2tj4bFB4ulZz9/YGXXrJuiaFmdtq0kbo/9ixfnvc9XGH8HGYNTl1hr8gjEZELOLPji1Sw07Il0KuXZ8dC5l54AWjRAnjnnbzP2QY7W7dKZ/bbbtOPUYUFjcnFp07J0pOfn97oNDs7b7DiaKsI1SJjxIgCP06+1DKWGqOrLl/Wb6vPT0TkBpzZ8UWdOklSKPN1vFd0tN4M1JZtf6yTJ2VHU1iYfoya2TAGOyqIqVJFli8rV5bqyCkp+i4uTbMuVvjKKxIcPfdc3nE4GhQV1CLDXTM76rP6+1t/F0REhcSZHV9UrpwEOsYO2OQ7bGd2bLedA+adz+PjpcbSjz+anweQoOTYMemNFRwsW8HNZpcAPdipVAm4dMn8mHPngPr1gZEj7X8ed83sqM+anQ188IHr5yEissFgx1fdd5/khcyf7+mRkLNsW0YY+2IpZjM7gYFAw4b6ji01I2NWWDAgQA+Yzp6VwNiWet3jjwMff2w+1mnTgAMH7D8PAL//LnlDgHtmdoC8u9CIiAqBwY4vOnoUWLVKbnMpy/eoYOfyZamy7OjMjr3z2Et0VufIybFuTaEYg6QDB8zPUbmyftuYU2MUGCg1fwDrWR5nGT+r2lFGROQGDHZ8kfEHhcGO7ylXDnjkEWD8eAlEzIKd2Fhg5UqZNVG++05mUNavl/tmMzs//QR06SLb0gMD9Z1gZlWU164FRo2S2wcPmo/1/vv1v2MnTtj/TDffDPz5Z+Ga0hr/LjPYISI3YrDji1hU0PdNnQq88YZsITcLdsqWBTp3lmrMyvffAy++CKxbJ/cff1x2cv373/oxe/ZIqwjVFyu/ZqDVqgEDB8ptezM7FoscB0iPL1tHjwIPPAC8+SbQoIF5RWdH9e4tPcUACeA0zfVzEREZMNjxRcZgh0UFfV+VKtLws2rV/I9Ty1VqRqdmzbwtI2x3WBW0HFanjlwfOSJJzUaaJg1n8wt2Dh2SVhGzZ+c/dkepcWdmAunp7jknEZV63Hrui9gby/dlZUnwEhwMfP65+TFffy3LS/fdJ3V4nGkVUVCws3u3JB83bizLahcvSruKBg30Y44dA+rWlfYWlSrlDYYAPQCLigJefVUCopdesk62dkZwsMx2pafLUlZEhGvnISIy4MyOL+Iylu978klp/Pnhh/aPee89afmwc6fcV4GMSkw+exZISpJKyoptsPP++9Iyon9/63Nv2wb897/AjBkS0AB583Z275ZAp0EDqefz4IN5x6jyx6KiZMfWlCmytGXmo48kILLn/vuBWrUk0LFY3FeNmYhKPc7s+CJjsFOYHAnyHGdaRpw5I7MqqqGoCmSuXpV8HYtFigeWKaMn9qpjGjUyP7cxKEpMlLYSti0a9uyRa9XU1Iwaf2SkLMedPGkepGRm6snQ998vS3C2Dh+W2aUpU4ChQ63/nhMRFQL/b+KL1I+Anx97CPkqFexs2SKzGVWrAr/9Zl2p2JhcrIKKgAA9wK1USf4OqB1dMTF6EKNaQdhjDHZee838GBXs2AuYAOtlLLV0ZRbsGDurnz5tHuyopbZ69RjoEJFb8f8ovqhKFWD7dv4g+DIV7OzYIfVrLl/O25LB2B/LGJyo4/z9JcBISZFL5cpAUJA8r2Z2tm2Tiss1agCDB+vndiT/RwU7gYGynR3Qm4cqxmUstZvMLNgxLm3Zm81S2+PZF4uI3Iw5O74oIEC2JOf3L27ybsbCgoB5Qq9xZqdZMwk+5s0zP09qqvy9SEmRPBuV2Lttm7SMmDnT+nW2O7uuXZMdWUZq+3qzZrKd/ddf81ZidiXYMfusmqbP7GzfLknZ9maciIicxGCHyBNUkKIYa+woxpydoCBpFdGqlfUxZoUFy5TRZ3/s7cYyJjufPCmJ7nXrStADSMBy+rScp3Nnub56VRKVjVatkh1YPXrkH+xERUmS9MsvA61b533+/Hn9vTMzZSea7SwSEZGLuA5C5AmOBDuOtIzIrz9WfucwLmNFRcmSWFaWzMDUqiUzTnfdJTujwsNlNiY1VQIb48xMQIBeHyi/YKdHD7nYo8ZXtqxss8/vMxEROYkzO0SeEBoKPPywft8s2OnSRWZOpkyRon0vvQRs2mR9jHEZ69tvgVtuAd5+W3/eXrCTnAxs3izbyv389ABDVVKOi5PzqfYPqrCgMdHY1p13Anv3Al9+af+YrCzz1hXXrgFt2gAtW+oBHFtGEJGbMNgh8gSLRYoJDhsm983yWKKigJtukt1Jc+ZIq4iNG62PGTlSclxeeAHYtUv6ae3frz+vgp0LFySXR6lWTZbEVJ0me7V2jMcD1lWUT54EBg3S6/xUqgTUry8zQbbOnZOArWxZmTGyVa+efLbff9d3kp09K0taRESFxGCHyJMiImTZqHr1/I8zbvE2iouTZPWICPMdVhERMnMDmM+oKCrYUTM7p05ZJyObBTtHjgCzZsmlIDVqAPfeK7cLWp6qUEF2gAH51yEiInIQgx0iT8nMlJmZDRuAhx7K+/y1a1KV+NVX9Z1SzrSKACTQUXV51FLWtm3AU08B//uffpzqkaWCnRYtZKlt2za5X726LLX5Gf6XYRuAXbkiFZ9HjLBuLZGeDmRk5H2dPcat81zKIiI3YLBD5CmPPy7F9aZMMX/ez0+OmThR37ptG+ycOydbtJ95xn7tnJ9/lpYTavZmyxbgrbeAr77SjzHO7KSnywzOpUsyIwNIpea0NMkbUozVkwHZBZaUBHz6qfWuLdv2EadPy84uozfflBmuyZPlfkyMfP78krOJiBzE3VhEnlJQywhVIdsYONgGMtnZwHPPWZ/PtnryDTdY3zcLiuLjgYEDpTXEn3/q51H1emwLHgLWNXbUeCtVksdPndKXvlSw07ix1ApSFZ+NXd6PHZNWERcuyP3Fi2Vmyd8/7/sSETmJMztEnqKShz/6SOrMmDG2AwkJAcqXt36+QgXZ/g3kLRRoj1mwExsrtW2ef96xNhHG9zPmEZltP1fBTq1a+vO2AZ6awVHfSUQEAx0ichsGO0SeYvwxL1fO/Bhj6wSzIMbPz3onl59f3iTm5culmJ8q0ldQqwhVOTk+Xn8sK0u2tTdoIMtbQN5lLONtY7Cj8o1iY+3PZrFVRPGbOxcYO5bFG6lU8Giws2bNGvTt2xdVq1aFxWLB/PnzrZ5/8MEHYbFYrC49e/a0OubMmTMYNGgQwsLCEBERgaFDh+KCmgon8mZhYfptPzv/KaqZnfHjge++Mz9GBS0//SRJwkFB1s8vWCBb03/5Re7bC3ays2UpacUKuW+c2QkMlK3h+/bpO7Jsl7GA/Gd24uKAW28FhgzJW1dIzeyoz7t+veze+ve/zT8zFc7Bg8CAAcA778h2f6ISzqM5OxcvXkSzZs3w8MMP44477jA9pmfPnpg2bVru/SCb/5EPGjQIJ0+exNKlS3H16lU89NBDGD58OGY5sh2WyJPuuUdq7dx8s/1j1ExHlSqyQ8qMsYqy2dKPsaEoYH+5a/Ro4MMP9fvGYMdikRwcFezUqwcsXSpBTWiofpxZsNOmjezGat4csPnHSi7bZaxTp6QuT6tW7JFVFPbt02+roJWoBPNosNOrVy/06tUr32OCgoIQbWe6fc+ePVi8eDE2bdqE1tf77XzwwQfo3bs3/vvf/6KqMQHSICsrC1mGrbEZxm2xRMUlOFiaa+bH2B/LHvXfh71EZ9sqysa+WEZq+zkA9OsnCcVGxmAHkN1XtsnQZsHOqFFyyY/tMpY6L7eeFw1j4cn8gp3UVKnifccdem4YkQ/y+pydVatWITIyEg0aNMBjjz2G04atqOvWrUNERERuoAMAXbt2hZ+fHzZs2GD3nElJSQgPD8+9xMbGFulnIHLZiBFSZfnUKWnvYEYFLc8/bz0zoxi7pwOyDT05WW8Roahgp0ULYP78vFWdzQoL2nr0UQmI/vtf+8dkZlpvKdc0qbxcpw5QubI8poKd1NS8ndZXrADGjLGuCE3OcXRm5+WXZZeesSYTkQ/y6mCnZ8+e+PLLL7F8+XL85z//werVq9GrVy9kZ2cDAFJSUhBp8z/kMmXKoGLFikjJp0rrhAkTkJ6enns5alsHhMhbNGggMzGffw788Yf5MSNG6E02//477/O2MzvVqkkPKtvcHmOtHU3Lex5jsHPqFHDffZJLZBQdLUtcamlLdUpX55s1S2a0Bg7UX2OxSI7OgQP6zFBkpDyenZ2303qXLsC775oHdqXB6dOFryzt6MyOmgE/caJw70fkYV5dZ2eg4X+ICQkJaNq0KerUqYNVq1ahS5cuLp83KCgoT+4PkdcqaPdUbKw+I2J2jG3Ojj21asn1+fMSzNjO7KiWFsePS12cr7+W93vzTfvn3LZNcnZq15akWDWWgn6sAwLkM506JZ9fjUXt7AKAApbAvcqFC8D330tgYRsgOiM7W4LSK1fkuwkJce08jgY76ntn2w7ycV49s2Ordu3aqFy5Mg5cL2kfHR2NNJv/UK9du4YzZ87YzfMh8ikpKXqnc2dbRSjGmZ3kZGDcOOvqyUrZsvrtJ57I+3xsrPz4lStnv1fX2bOynDZ6tNxXs6ZqxqagQopGZnk7aqdYu3YF1wHyJleuAA8+CDz9NHD5suvnOXhQqmZfuqQXf3RWVhZw+LB+//RpaU1iS9P0opJMYna/f/7Ri2hSkfOpYOfYsWM4ffo0Yq7/TzAxMRHnzp1DcnJy7jErVqxATk4O2rZt66lhErnPsWP6bdvAQsnI0Gul2CYMAxIArVkjy2CbNgFvvy1d1M307SvXjz+e97l+/SRImTFD//Gznf25dk1aPrz3nixhGWvsGD/DP//ILAUgW+Jr1gQeeCDvuP38rGek1Oe85Rbz8XurgAC9IKRxdspZu3bpt+11qC/ImTOyjFmtmrQOOXHCfBffuXPShgTI2/KDCiclRZZ7C7FCQc7x6DLWhQsXcmdpAODQoUPYunUrKlasiIoVK+Kll17CgAEDEB0djYMHD+Lpp59G3bp10eN6fkKjRo3Qs2dPDBs2DFOmTMHVq1cxatQoDBw40O5OLCKfYpxtsRfsGPNrjLV7lMBA4MYb5baq1WPvXN9+Kz9s9erlPy57MzsVK0qujabJjIH6kVTBTpUq8nxOjgQ8UVEyc3P4sOQnGc2ZI7NI6odY0/SZneBgCajuusu67YS7aZpUlK5Xr3C7ke65R/9X/N9/5/2sjtq5U79tXIpyRkyMPluYH2Pe49mzrr0XmfvmGwkmN26UZWNj+QYqEh6d2dm8eTNatGiBFtfrh4wdOxYtWrTApEmT4O/vj+3bt+O2225D/fr1MXToULRq1Qq//vqrVb7NV199hYYNG6JLly7o3bs3OnbsiM8++8xTH4nIveLjgdtuA4YPtw58jMLCZBs4UPCPaEH5P2XLFhzoAPaDHX9/61o5xoKCgIxT5Repc9irnhwWZj3jsG+fzEIEBUkNntGj7RfEM0tstpWeLknO9lp1AMDMmbIF/+mn7R+TnS27lcySwxXDP+pw6FD+48pP7976n51tYUZ3My4fchnLvYyzmMa/G1RkPDqz07lzZ2hmuz6uW7JkSYHnqFixIgsIUsnl5wf88EP+x1gsEjhkZZnP7AASHOzdKzVTgIL7Z9kzcKAsfQQGyn3bZSxAfoT/+UeCHdtlLEACpFOn9GDHtnqyPefPAzfdJEm5sbGypPPHHzK7Y+vFF4FXXwWWLbO/VDBwoDQcXb9eghozTz4p1+++K9WGzUybJuUBYmLMdy1du2YdCOUXFBWkVavC1x7SNL2x69dfy+zCnXcCHTpYH2ec2TlzRpYlWWvHPSpWBBITgXXrJNixVzCU3MancnaIyI6KFc3zdZQpUyQAUEmtrgY7Bw/KDItaTjFbDjP2x7JdxgIkL+jBB/UZHtvqycrWrbL8o5KlW7eWYG3hQsk5Acy342uaBDoA8NRT9j/L4sVybZasbTyX2W2juXPl2l4QcvSoBApKYYIdR50+bf99eveW5O4VK4Aff5RAbuPGvMepz1O3rpzLXmPWrVsl4DTW7qGCqRlUV5cjySlevfWciNzENpBwNdipXl2KG773HnD33eYNTI1VlO+6S34o1bZ2IG/7B3vLWOfPSw6R7bKaxWId7BhnKgDrH12zXUaA4wUJVRK1GqdZo1JjEJSZmXe50XaZwl4QomnApEmyNPfNN3mXqVJS5LmmTeU7uXpVZv7MgpBeveTP6cCBvMUjd+6UxPfgYD0wNVumUjM7t90G1KhhPmYA6N5d/qz37LHOKSJz334rAY76u8lgp1hwZoeoNLBdInI12FGFBVNT5RxmiZXGYOedd4B58/LPL7E3s6PGePKkBBrGHJyEBPmR/+cf6x1rgPTsUvbt0wvjGW3frt/299c7uRudOaPn85w9a78juwpeliwxz6tSwU5iohxjbybJYpFaPCtXytKardWrZblp8GCgY0cJVsxmts6elQRkTZMijkaXLunfV716+Qc7amanoL8rqjWIMTAk+6ZOlfIMhw7J3ynWfCsWDHaISgP1Q3333fIDqQoEOsuRlhH//rf8azW/pN7Ll/Ugp2pVaRVh+6OqluUuXAA++EACJrWkVbas3rvL9ge/WzfZ/g7Iks25c3nfPypKjrnzTglozIrzVawor920Sa83YysrS/+XuW0vMcUY7HTvbt2DzOjaNTkGkFwOW2rbeePGMqOTnW0+K7Btm37bdteV2q4eESF/J/ILdpo1k8rce/fKFvTffjMfd0KCXL/7rvnzpLt8We+H9/nnEqxPmeLZMZUSDHaISgMV7AQFSTKkq4mmKtiZMUP6U5nlsVSvLnketq0ilJkzJbi47z65/+WXEhDYJhKXL6/XplGzIcblMHt5Ow0aSMClaTKrZJZXFBsrx8yZIzMk9oSHS66QPcePy+xWeLgEbWZF4hISgP79gYJqf913H/DFF3LbLNhRS0RNmkgvMcA82Nm6Vb99993Wz6nj69WTmaT8gp3x4yWv6coV4I03gLVrzcetAl/1d4Ps+/VXCZCrVwcaNvT0aEoVBjtEpYFtfyxXGX/QZsywzpWx9emnMhszdKj5WBypoqxme9SPtLGY4JgxksOS3wySO+zYIUtHZp3ba9eW5a5PPpHP1bt33mMefFCCrrvvBhYskOaaxmU0xVgReePGvPlGamanSRM9j8ksKVgFOy++CAwaZP2cMdgB8g92lPyqXl++rOdcVatmP4mbhFpi7d49//92yO0Y7BCVBipn5+efZRu6q4zLX/YKEx47JjkJzz4r9213iakAxpmWEYDs3lJLJoAk6rZvb50k/eOP8vlUUKdpeZfcLl2SGZ3Dh2W2ZPhwaaFh65lnZNnsjz+kjs68eeZjtFjkX+lnz0pAkt8P/tSpwAsv5J0lsV2SunRJgiwlM1NfDmvcOP+dPIMGyaxV9+55n3M02MnJkffM7xjA+rutVo01Ywryyy9y3a2bXD/1lMyCfv+958ZUSjDYISoNOnaU/BTA/o+2Ixo0kNosgP1g5+xZPWcGsN52bnzdqVNSl6ZmTeCGG8yDBGMez803S65Kfl5/Hbj3XmD+fMnFiY6W909P149JTpZZlvbt5fGpU2WHjK2ZMyVXSI3hxAnr8xg1bKi3tjAGcZmZcl99tpo15dp2R9aRI3JsYKC+nGdcyvrzTwlAKlaU8RiXsWy/N5Wz1K6d7JAyBrdxcbKM2aSJfn/bNsnlMZ7n6FFZ3ouJyX9mp0IFPefk8mXrnltkLSVFZvQsFqBrV3ns1Cn57l3tc0YOY7BDVBpUrqz/a95ekOIo9aNnVlAQyLvzSlVPtn0+O1uSXw8flp0pZtP6X3yht7ow64c1f74sL61fr5ffB+QHPzRUcoM0TQIcRSXt3nCDnlR87Jh1IHPunF4gsF07vSXFnj3W79+zp2zNPn5c3+Jt7F+1fr0EJ6ponL1gR/3Y1a8vgWlEBHDxov68ytdp3Fi+J5XkfO6c/aXJ48elAvegQXqS9qRJMlOlAt+AAJkhi462/v7VtvPAwPyDnUqVgEcfle8ByD/YMQZ9pdGePZKD1qKFXmNK/TfJGbEix2CHqLQoqFWEo9Ryhr2gyXaLtu3MTkCAfowKHuxVT/bzAzZskNtmlZC//Rb46CMpkLdypQRQDRroAdYNN8i1sWieCnbatJGgQgUyu3frx6hxVasmyceqw7rxmKwsqdD800/Wu8OMwY76EVPLcfaCnb175bpBA1k+O31aEoSVrl1l6U015gwOBm69VZKa1XITIEtfS5bIjEH16nK+nBy9p5ij1LbzmBjH8npUHR57wc7cufL37u23nRtHSXLzzfLnqopQAiwsWIwY7BCVBpombQ0A80KAzlBFAVevNn8+IMC6dohtsAPogZIKHuzVsAEk0XnkSMltsGXckaWSP1U+BFBwsAOYBylqXPHx1tfGmZ39+yW4CguToCi/YEeNvaCZnYYNJZCxXa6LjpbZmD599Md++kl2qRnzqD7/XGZZ1J+RyttZulQSnnNykMf06dJnzDj7ZQyMjcuOtq/fvFmqWqut+/aCnW++kWtjB/vSKDDQukCj+nvBYKfIMdghKg3cufPjuefk+r//tX+MsZBfeHje5/v1Ax56SL9vL9gJCZHdTB9+aP4ZnA12zpzRa82oLeUqf8Us2FEBjJrZMQY76vj4eBmbM8FOaqrkuCgNGkjfL/V5FHsVoO1RO7GaN5dr9V0sXSozCuXKAfffb/2aOXOkIrZxy7pxZicqSr6/v/7K+2fw+usyY6GKINoLdtRSmyNNZksiewUX1feRlgZkZBTfeNzJR5YmGewQlTadOhXu9a+8Ij9eZrt9FLWMZJsLorz2muTjqFmf/GZ28qNyYQ4dksCiTBmgc2f9+ZYtZZbk+HG5qFmdunUluRbQgxRjqwPbmZ1GjeQ8xgDFNiBq3ly+E+Nymwp2VI5NRITerNUYGIwZIzMkd9wh9z/9VAKjSZMkd+eNN6QnmO0Py7Vr+vKSpuUNdjp3lu/k4EGpmZOZKfeN1MyNcZnKOLPj7y+zYHFxef8sVTVm1UTUXrBjnLkqrNOnrZfufMG770o+lm0BwbAwfZnQF/N2rl6V/8ZatvT6CtoMdohKi7//BtasKXyHZYul4A7lrVrJ9aRJ+R/naMdzeypUsC402K6ddef3cuX0mZtNm/IuYQF6sGL8l7X6sVfBTocOEnQsX64fY6xorI5dsgR46SW5r2n6LJKa2bFYJGj580/7lZQBCTAOH5YdWbt3S67O0KHWwcaKFTLz1aOH3D98WJKsAwL0majQUL0qs1rGtJ1dMcvJMc7s5EdtPe/QQQKs1q3zBmTnz+vHPf104ZZs/vpLgi7b+kFGly/LOO691/X3cbeVK+Vzm7Ulad1a/j462q/Nm2zZIgH2li163pmXYiNQotKiRo38Gzq601tvAW++qSf/mrl0SWYm6tY1z+txVMuWMrPz5JPWS2PKAw9I8FK7tixr1a9vnaTdqpUECcYgacsWyVFRS3ABAXmrThuXscykpUlFZYvFOiDr2NH6OPUDaGxZoQKUjRv12RrbdhTVqsm/rNX2c+NxgYH6cd266S0KAMeCHfXj26CB3J8zRwLFO+6QgBKQf8mroKhNG/nOzBh/BH/9Vb43V5ezPvxQvq+5c+X9zZqgrlwp+UfJycBnn5n3bytu6s/GrIr2woXFOhS3MrYQ2bbN/n8LXoDBDhG5n/HH3cz06RKY9OpV+OTMli2lKFtWlvRzsvXUU9b3bVsomAUyQP7NS3NyZFYpJCRvEHLmjIzFzw8YO1a2fefX7PH776VC891364m8jRpJ8JWRodfJUTNUSq1a8h4XL0owZ7uEpQwaJLMHAwbIrIcjwc7EidbHfPed7HyrWlUPdlJT9YAjvx1+tjVkzKo+O8rYDDYtzXzm6a+/9Ns7d+qBo6ecPq3PbBmLYpYExiB62zbvmk2zwWUsIip+KpBwpIpyQYYPl/N88knhz5Wf//1Plmv+8x8JMtaulSUaYwuNpCTJP3rhBcmFeest2SFltGePtIxQ41XBgHEpz89PnwVQ28Ztg6rAQD3hed8++8FO7dryg6/yjWx3tbnaMkL9gKu8HkBmmK5etX6to8FORkbe19pSO8Z++sn+EpvKHwKsq1AXldRU+01SAb01SK1a1rOHtsx2ynk7NRuZkJB3xtLLMNghouKXX6E6Z1WubL/AoZKRIYHI2LF63R6j+fOlaOGkSbLLrE8feczo9GkJcIzb2P38rPNoVPBh3JFl688/JRiaPl2/D+RN3rWdkbCd2QGsKym/+qokfffqlfc4NXsWHZ13Wcc22MnOzpsAbJbErJKTVbA3YYIUzbPdpTdqlCRHqxk2ezN5L78sr3/9dfPnMzL03XDGnCtbLVro7T/sBTsHDsjfhcK2adi2TYoy3nij+d8rdQxgPusIyExUgwbFt8TsTl99JQHqli1S98mLcRmLiIqf+vE8flx+nL77Lv+E3cLq00f/13dGRt7ciXPnJNcDkKTmn3/O+z9v4/ZzTTPfZWbcxr5/v+y+qlzZ+li1xKdq7RgLChrZBju2MzuALEktXizv9cgj5gERILlR1apZ1+RRGjaU2QcV9OzeLT/gderoO4TMgtMWLWTXmJqtCAiQfBrbHVnR0XKpWFECIXszO1u3Sp6QveXD5GT53uPiCq4CrpaL7AWdv/8OvPOO1AkaMMD+edLSZOnMLBdl3Tpp/KqqU69YYZ6To4Kdpk3N36NyZf07ycjIf/bHG9nu7vNSnNkhouJnnInZutU6obYoqHo7gPmsgLFGju22c0UFO/v3A/fcI6/56SfrY+rXlyWd9HTZ9h0ZKc1JjdTsT1qaLIOpmQ7bmR3jD2dMjHm9ovy6nxu1aSNNTadOzftc2bISHKgAQiUdBwfrx6g/L2OwU7OmLCEOHCj3C6qirMaakpK3powxwdps6Q+QP8Ply6XA5M0367lDRqdPy/edkCCzOosXm4/ljz/k+tdf9QKMtjRNZvsaN5YaSCtW6DvNLl+WZO1z5/SZMlVryFZcnAQ6aoeiLeP2c18qLnjhgn47M1OCUTXb54000tLT0zUAWnp6uqeHQlR6lCmjafLzoWkXLhTte82apb9XcnLe58+f159Xl7Q062NycjStfHl5zmKR68WL856rYUPr82zfnveY8HB57scf5bpsWU3Lzs57XGampm3ZomnLlpl/rrVrNe2eezTt9ts17cMPNW3XroK+iYLNmCFj6tZNf2z9enksLs7+65YulWMaNdIfO35c0yZO1LTvvpP7kZGaVq5c3nEeOWL9nd16q/33SU3V/wxs/97Mny/PNW+e/2fs0EF/r+rVzY/Zuzfv34n27TVtzx55fuVKTevXT/5sAPlsOTn5v29B4/n6a9de7wk1a2pa3bqatnOnpt19t4z/P/8xP/bUqSIbhqO/35zZISLPME5/G7ddFwXjzI7Zjpjy5fUZF0CWFmyXUywWffZF/QvfbGnJ9jHVINRIvZeaeahf37yje1CQJByb9QUDZKlr9myZHRg1yrx7uyM++0xaRuzerc/sGHdYGZex1GdfulQKIaoGqsaZHXXMH39IEcpXXpH7u3fLbJbtrJmxejMgS472EnYjI+Wiada9ygA9GdjekhEgOUnG9zt2zHxGQtVUatMGePxx+bPYtk1v4tm5s+R1dewoLTpGjHC9Vo6vNQQ9dkyWYVXdI5WPpJbsjE6elD+vli09WkuIwQ4ReYbqZg64t52FmTp1gEWLJMHYbJs5YJ3vYq9eiFrKAvSeWLaMwU7Vqua9yFSwc+kS8PDDQP/++Y2+YOpHxnYnlqNmzpSWEbt26QUVjbudqlWTOjvG5bJRo2Q5SdXXUbWSLl3Se2DZJl9XqmT+Z62Cj3vvlcDz3DnritZpaZJ0PGeO3FcBqwpuFGOws2CBfLezZlkfs3+/bNcPDtaDonXr8o5JBVK33Qa8/77Ucvr6az3YUYKC5O/WSy/lLTFw4YJjLT/MemS98458Bm+k8t+aN5dlPPX3zjZoBSTYadFC/nFT1MvV+WCwQ0Seobp620uqdbeePfOvuWIMUuwFO7bHmP1w33yzJCYD5s1LAT3YqVJF8lNU1WVXZGba33buKGNOjtnMTkCA1OpRLSM0Td96rpKey5bVX6PydhxtE6HG37o10L693F6zRn9+wwbpmK6+JxWk2O62UvcTEiSHZNo04JdfrI9R29ebN9e3S5sFOx98IDMYw4bJ/ZgYoG/f/D+HrVdflWDAXl6QYtv9fO1a2b3Wt68kUQPe1YNK1ddR/2BRMzt791q3VAFkRic52bomjwcw2CEiz1CtIlzti+VujgQ7Tz+tt8Cwd0znztLrCrAf7IwZI7u6ChPkKMZxuLp92bj93Gxmx1Z6usyOANazW926yUyIWqK0DXZ27pTE3vvusz5f9+7S1b19e713m/HHUW33V8uRambHGOxcvqwHC02bmh8D6DM2rVrpwa+95OJq1Qre+aWkpQGrV1s/tm2bBKOqD5s9jRpJUNCsmSRv33+/LOPdf7/sYrvnHqnvVJC//gIefVRmx55/3rFxu8I22KlaVWa8srPt74DLr7BmMfCNPWNEVPKUKSP/oi2o2nJxGTRIWktomv2lB4slbwNQM7YNQG2poGT3bjmmMD8ExlwfV5cDjcFOhw6yxGMbqM2eLTk4d92l51hVqGC9a+vLL61fYxvsaBowb57MfBm37z/6qFwAPa9jzRr9GEeCnd27JUCoXFkCFHXM7t3WrSVefRX417/kWPVeyclS9drVP4cjR+TPNCBAgpWyZeVxtaxmr8aOomaiAGDIEFkyq1FD2mP89JPkYi1aJP3RzLbm794tdaS+/lpvyPl//yezp2a7+Arj7Fl9iVHNjFksMlO2bJkEeK1by+Pnzsl/5+XLu3cMLuDMDhF5xp13Sg6IalDpaSposFjs5/UAknCckJB/Emz//pLwa8xLsnX6tARM5cqZN4h01Mcfy3jfe8/1cxiDncmT5YdV/WAp33wj/c42bdITes3q9ij//KPP3qnihyqAOndOf87WDTdIABUVJT+smqYHO6psQHy8zDw1a6Z/d8Z8HYtF/pyCg2VmRTVkBeS5atUkx6h2bQkegoKs20wMHCjFGVXj2ILExsp3qArsqc9/4oTcdrRNxOzZEjD6+UkeVXi4zIK1bCmJ3S+/bH38uXPSaqRJEzk+O1uWa4cOlZlDdwc6gNQo0jT5MzXOeqmAzpi38+GHMjP1wgvuH4eTOLNDROSM//yn4CWFO+6Qiz3Z2bJEAcgPUmF2o3XvLj+EhZkdcrZlhJq5MEvQ1jRZ4lKzOjVq6J8vOFjyfo4ckUC3cmUJMiwWyWOyWOTcp07pid379+v9xVTQEBKiBxJKt25S0VcV5fP3l6AoOVlmgFTAZWSxSE5MtWr6zM/Vq9Kc88KFgnNtjOdp21ZmYdavl+UxlTReu7ZjzUiPHJG6RQDw3HP6rImfnwSZXboAU6bIzjD1WX7+WdqYAPL37d//tl/Px12qVpVZONtlzv795e9I5876Y0uWyPeZ35JoMeHMDhFRcfP317edq8ChMAqbD6GCnePH8yaYKsaWEbbJycrKlbJkcdNNUvRv/369kamifqjVzq5XX5WAQG1PB6x3sKnZlRYt8t/NU726zIIYK1/bLnf9/DPQr5+01VDi4qy7pycnS6BToULBy09Gqsihahvh6BKWMmWKBK3lyuVtxHrLLVKt+do1acuh3HuvJDKvXy+tL2wDHU2T7//IEfP3TE7Ov6+XmZYtZay2szUdO8qymZp9S0/XE7979HDuPYoAgx0iIk/ycOImAPmR3L5ddjyFhJjv6jLO7PTvL7V5bBONK1XSW0aUKSPLVraVjm13HqllD7OlnqwsPVAx1koysu3jZZSQILMuasZqzRqpsJzf8pRqvHrzzea1j+xRn1MlOxfUE8vW0KESLOzda76M+sYbMp65c6W+ESCf7c03zdtUAMCzz0pA9MQTcv+33+Q9NE3yaxITgbvvlpk0M7t2yQydKzvBVqyQGcz69b0iL4/BDhGRJ6i6NHfe6dlxADKbkJCgJ7eaJZQat6cnJMiW7Jtvtj5GJV6fPq3v1rJlnNm5ckXfvdOihX5MdracOyxM2kMcPqw391TWrpXZnA4d5P3eeUcPVJRhw2S25OOP5b5KAm7ZUj9G04CHHpLA7Ngx/Ry33GI+fnvatJHg4/Bh2b7fsaMsLRm7sOenTh0JaMyWBgHJ7xo6VG47muc2eLAEnT/8ADz5JNC1q/Qn++IL2flWr56MdcgQ6yKOmiYNWRMSZKdYvXqyg3DaNNmJZa844KFDktu1c6csYQFeMasDgO0iNI3tIojIAw4e1LS33tK0ixc9PRLdBx9I2f8BA/I+t2aNPFe3bv7nCAuT43r00LSXX87bdmPhQk0LDta0O+/UtK1b5djw8LytFlq3ludmzTJ/n/379VYbP/8st+vXtz+unBxNq1hRjtu82fq5Fi3k8f/9T84HaNru3fl/TjMJCfLaefOcf60jLl3StM8/17TDhx1/zbPPWre8uO02/e/cjh365/3vf/XX5ORo2oMPyuPGti7qct995u+lXjNpkrSTADRtwQLXP68DHP39ZrCjMdghIsoNdABNGzky7/OqV1RoqKbNnq1py5dL7y5b6gdfXU6csH7+2jW9D9j06XLMTTflPc+YMfLciBHm483O1rSQEDlm2DC5vvNO+5/v77/lmICAvOP+17/kORX0xMS41ufqf/+Tz2T7mT3p4kVNq11b/56uXrV+/tNP9aBm40b98cxMTfv2W03LyNC077+XQKZKFTl27lzz93r3XXle9YcLDCzyvneO/n5zNxYREVl3GjfbPVOzpuxciojQt5D/80/enKMaNfQ8m7Aw60rMgHUycH6Vnzt1kqWpKVNkh88991g/7+cnSzubNskuLMA87+f996XNhFoeatIk75jbtZOlri1bZKlH7Qxzltphd/y4LGepitOeFBIieUS7d8t3ajueYcMkf2fOHMmLysyU7ycoSGoqAfruwpwcSTy2VyRR5ScdPSqlEFJTzduleABzdoiISM/JAfIGKIDshGrVSv+xDAqSGiq2jFWcGzbM/8de1aQx5usoaus1oCfk2lLBjaq1Y1b76OBBScz95hu5b8zXUVQl5cBA6Uc1dar9MTvi/fclYFKVtD2tShXZIWf2Z2GxSLK5amHyySf2z+Pnl381aBXsXLwo+UKTJ7s8ZHdjsENERNbBTn51UYzbzs1+PI07g+z1xPrPf2Q2p0IF2TFklsRrbLh5003m57ENbsyCHWPvteBg8zo0derI+125ogdgrtq8WRKNAevGsd4sIkJaXUydqvcCc0WFCjKbBZh3QPcgBjtERGQd7NjbKjxzpmxlBuzvGnrgAX05x96PfWqq/BjWqiVtDuz1ENuxQ3YO2S5hKcZlq3Ll9NkJs2NiYmRn1kMP5T1GFTUEzJuCOsNYBye/KtveJi4OeOSRwi87qe36XtaxncEOERHpwc7gwfaDlK+/1md27AU7QMHdztX2c1Vrx54mTSQ4sbcUZgx2Gjc2r4ujepidPCmVmO0Vcbz9drk+ejT/MRWkdm3z8ZUW/frJtSqu6CWYoExERM61jADs98XSNMmhCQgAGjQwP0YFOwsWAGfOmOf+OKJKFckP2bnTfu2X0FCZtfn7bznO3pLY009LcNWli2tjUTp1khwYwCsaYBa7pCT5cx840NMjscJgh4iI9IDjzBn7xxiDnfxmdiIjZZZFVUu2ZXz8iy+k5YGrQkLsV1dW/v5brl98UVpamClTBrjtNtfHodx3nzQwVW0TSpvgYOCxxzw9ijwY7BARkQQMYWH5tzcw5vV07Wp+jMUCLF8uMzzGbeZGxkDJuOxTVL7+Gnj4YWmUWdQsFmDUqKJ/H3IKgx0iIpIE3tTU/Ht1qZmdm2/Wc2HMFNRTys9PdmT98QfQt6/zY3XWwIFet6xCxYvBDhERiYI6sBubgRbW008X/hxEDuJuLCIickxEhFzv3u3RYRA5izM7RETkmKZNpQCgvcRjIi/FYIeIiBwTECCtF4h8DJexiIiIqERjsENEREQlGoMdIiIiKtEY7BAREVGJxmCHiIiISjQGO0RERFSieTTYWbNmDfr27YuqVavCYrFg/vz5Vs9rmoZJkyYhJiYGwcHB6Nq1K/bv3291zJkzZzBo0CCEhYUhIiICQ4cOxYULF4rxUxAREZE382iwc/HiRTRr1gwfffSR6fNvvPEG3n//fUyZMgUbNmxAuXLl0KNHD2RmZuYeM2jQIOzatQtLly7FggULsGbNGgwfPry4PgIRERF5OYumaZqnBwEAFosF8+bNQ//+/QHIrE7VqlUxbtw4PPXUUwCA9PR0REVFYfr06Rg4cCD27NmD+Ph4bNq0Ca1btwYALF68GL1798axY8dQtWpV0/fKyspCVlZW7v2MjAzExsYiPT0dYWFhRftBiYiIyC0yMjIQHh5e4O+31+bsHDp0CCkpKejatWvuY+Hh4Wjbti3WrVsHAFi3bh0iIiJyAx0A6Nq1K/z8/LBhwwa7505KSkJ4eHjuJTY2tug+CBEREXmU1wY7KSkpAIAo1WX3uqioqNznUlJSEBkZafV8mTJlULFixdxjzEyYMAHp6em5l6NHj7p59EREROQtSmVvrKCgIAQFBXl6GERERFQMvHZmJzo6GgCQmppq9Xhqamruc9HR0UhLS7N6/tq1azhz5kzuMURERFS6eW2wU6tWLURHR2P58uW5j2VkZGDDhg1ITEwEACQmJuLcuXNITk7OPWbFihXIyclB27Zti33MRERE5H08uox14cIFHDhwIPf+oUOHsHXrVlSsWBFxcXEYPXo0Xn31VdSrVw+1atXCxIkTUbVq1dwdW40aNULPnj0xbNgwTJkyBVevXsWoUaMwcOBAuzuxzKgNaRkZGW79fERERFR01O92gRvLNQ9auXKlBiDPZciQIZqmaVpOTo42ceJELSoqSgsKCtK6dOmi7d271+ocp0+f1u69916tfPnyWlhYmPbQQw9p58+fd2ocR48eNR0HL7zwwgsvvPDi/ZejR4/m+zvvNXV2PCknJwcnTpxAaGgoLBaL286r6vccPXqU9XuKGL/r4sPvuvjwuy5e/L6Lj7u+a03TcP78eVStWhV+fvYzc0rlbixbfn5+qF69epGdPywsjP/hFBN+18WH33Xx4XddvPh9Fx93fNfh4eEFHuO1CcpERERE7sBgh4iIiEo0BjtFKCgoCC+88AILGBYDftfFh9918eF3Xbz4fRef4v6umaBMREREJRpndoiIiKhEY7BDREREJRqDHSIiIirRGOwQERFRicZgpwh99NFHqFmzJsqWLYu2bdti48aNnh6Sz0tKSkKbNm0QGhqKyMhI9O/fH3v37rU6JjMzEyNHjkSlSpVQvnx5DBgwAKmpqR4accnw+uuvw2KxYPTo0bmP8Xt2r+PHj+P+++9HpUqVEBwcjISEBGzevDn3eU3TMGnSJMTExCA4OBhdu3bF/v37PThi35SdnY2JEyeiVq1aCA4ORp06dfDKK69Y9Vbid+2aNWvWoG/fvqhatSosFgvmz59v9bwj3+uZM2cwaNAghIWFISIiAkOHDsWFCxcKPzinmkiRw2bPnq0FBgZqX3zxhbZr1y5t2LBhWkREhJaamurpofm0Hj16aNOmTdN27typbd26Vevdu7cWFxenXbhwIfeYESNGaLGxsdry5cu1zZs3a+3atdPat2/vwVH7to0bN2o1a9bUmjZtqj355JO5j/N7dp8zZ85oNWrU0B588EFtw4YN2l9//aUtWbJEO3DgQO4xr7/+uhYeHq7Nnz9f27Ztm3bbbbdptWrV0i5fvuzBkfueyZMna5UqVdIWLFigHTp0SJszZ45Wvnx57b333ss9ht+1a37++Wftueee0+bOnasB0ObNm2f1vCPfa8+ePbVmzZpp69ev13799Vetbt262r333lvosTHYKSI33HCDNnLkyNz72dnZWtWqVbWkpCQPjqrkSUtL0wBoq1ev1jRN086dO6cFBARoc+bMyT1mz549GgBt3bp1nhqmzzp//rxWr149benSpdpNN92UG+zwe3avZ555RuvYsaPd53NycrTo6GjtzTffzH3s3LlzWlBQkPb1118XxxBLjD59+mgPP/yw1WN33HGHNmjQIE3T+F27i22w48j3unv3bg2AtmnTptxjFi1apFksFu348eOFGg+XsYrAlStXkJycjK5du+Y+5ufnh65du2LdunUeHFnJk56eDgCoWLEiACA5ORlXr161+u4bNmyIuLg4fvcuGDlyJPr06WP1fQL8nt3txx9/ROvWrXHXXXchMjISLVq0wNSpU3OfP3ToEFJSUqy+7/DwcLRt25bft5Pat2+P5cuXY9++fQCAbdu24bfffkOvXr0A8LsuKo58r+vWrUNERARat26de0zXrl3h5+eHDRs2FOr92Qi0CPzzzz/Izs5GVFSU1eNRUVH4888/PTSqkicnJwejR49Ghw4d0KRJEwBASkoKAgMDERERYXVsVFQUUlJSPDBK3zV79mz88ccf2LRpU57n+D27119//YVPPvkEY8eOxb///W9s2rQJTzzxBAIDAzFkyJDc79Ts/yn8vp3z7LPPIiMjAw0bNoS/vz+ys7MxefJkDBo0CAD4XRcRR77XlJQUREZGWj1fpkwZVKxYsdDfPYMd8lkjR47Ezp078dtvv3l6KCXO0aNH8eSTT2Lp0qUoW7asp4dT4uXk5KB169Z47bXXAAAtWrTAzp07MWXKFAwZMsTDoytZvv32W3z11VeYNWsWGjdujK1bt2L06NGoWrUqv+sSjMtYRaBy5crw9/fPszMlNTUV0dHRHhpVyTJq1CgsWLAAK1euRPXq1XMfj46OxpUrV3Du3Dmr4/ndOyc5ORlpaWlo2bIlypQpgzJlymD16tV4//33UaZMGURFRfF7dqOYmBjEx8dbPdaoUSMcOXIEAHK/U/4/pfDGjx+PZ599FgMHDkRCQgIeeOABjBkzBklJSQD4XRcVR77X6OhopKWlWT1/7do1nDlzptDfPYOdIhAYGIhWrVph+fLluY/l5ORg+fLlSExM9ODIfJ+maRg1ahTmzZuHFStWoFatWlbPt2rVCgEBAVbf/d69e3HkyBF+907o0qULduzYga1bt+ZeWrdujUGDBuXe5vfsPh06dMhTQmHfvn2oUaMGAKBWrVqIjo62+r4zMjKwYcMGft9OunTpEvz8rH/6/P39kZOTA4DfdVFx5HtNTEzEuXPnkJycnHvMihUrkJOTg7Zt2xZuAIVKbya7Zs+erQUFBWnTp0/Xdu/erQ0fPlyLiIjQUlJSPD00n/bYY49p4eHh2qpVq7STJ0/mXi5dupR7zIgRI7S4uDhtxYoV2ubNm7XExEQtMTHRg6MuGYy7sTSN37M7bdy4UStTpow2efJkbf/+/dpXX32lhYSEaDNnzsw95vXXX9ciIiK0H374Qdu+fbvWr18/bod2wZAhQ7Rq1arlbj2fO3euVrlyZe3pp5/OPYbftWvOnz+vbdmyRduyZYsGQHv77be1LVu2aIcPH9Y0zbHvtWfPnlqLFi20DRs2aL/99ptWr149bj33dh988IEWFxenBQYGajfccIO2fv16Tw/J5wEwvUybNi33mMuXL2v/+te/tAoVKmghISHa7bffrp08edJzgy4hbIMdfs/u9dNPP2lNmjTRgoKCtIYNG2qfffaZ1fM5OTnaxIkTtaioKC0oKEjr0qWLtnfvXg+N1ndlZGRoTz75pBYXF6eVLVtWq127tvbcc89pWVlZucfwu3bNypUrTf//PGTIEE3THPteT58+rd17771a+fLltbCwMO2hhx7Szp8/X+ixWTTNUDaSiIiIqIRhzg4RERGVaAx2iIiIqERjsENEREQlGoMdIiIiKtEY7BAREVGJxmCHiIiISjQGO0RERFSiMdghIiKiEo3BDhERgFWrVsFiseRpbkpEvo/BDhEREZVoDHaIiIioRGOwQ0ReIScnB0lJSahVqxaCg4PRrFkzfPfddwD0JaaFCxeiadOmKFu2LNq1a4edO3daneP7779H48aNERQUhJo1a+Ktt96yej4rKwvPPPMMYmNjERQUhLp16+Lzzz+3OiY5ORmtW7dGSEgI2rdvj7179+Y+t23bNtx8880IDQ1FWFgYWrVqhc2bNxfRN0JE7sJgh4i8QlJSEr788ktMmTIFu3btwpgxY3D//fdj9erVuceMHz8eb731FjZt2oQqVaqgb9++uHr1KgAJUu6++24MHDgQO3bswIsvvoiJEydi+vTpua8fPHgwvv76a7z//vvYs2cPPv30U5QvX95qHM899xzeeustbN68GWXKlMHDDz+c+9ygQYNQvXp1bNq0CcnJyXj22WcREBBQtF8MERVeofumExEVUmZmphYSEqKtXbvW6vGhQ4dq9957r7Zy5UoNgDZ79uzc506fPq0FBwdr33zzjaZpmnbfffdp3bp1s3r9+PHjtfj4eE3TNG3v3r0aAG3p0qWmY1DvsWzZstzHFi5cqAHQLl++rGmapoWGhmrTp08v/AcmomLFmR0i8rgDBw7g0qVL6NatG8qXL597+fLLL3Hw4MHc4xITE3NvV6xYEQ0aNMCePXsAAHv27EGHDh2sztuhQwfs378f2dnZ2Lp1K/z9/XHTTTflO5amTZvm3o6JiQEApKWlAQDGjh2LRx55BF27dsXrr79uNTYi8l4MdojI4y5cuAAAWLhwIbZu3Zp72b17d27eTmEFBwc7dJxxWcpisQCQfCIAePHFF7Fr1y706dMHK1asQHx8PObNm+eW8RFR0WGwQ0QeFx8fj6CgIBw5cgR169a1usTGxuYet379+tzbZ8+exb59+9CoUSMAQKNGjfD7779bnff3339H/fr14e/vj4SEBOTk5FjlALmifv36GDNmDH755RfccccdmDZtWqHOR0RFr4ynB0BEFBoaiqeeegpjxoxBTk4OOnbsiPT0dPz+++8ICwtDjRo1AAAvv/wyKlWqhKioKDz33HOoXLky+vfvDwAYN24c2rRpg1deeQX33HMP1q1bhw8//BAff/wxAKBmzZoYMmQIHn74Ybz//vto1qwZDh8+jLS0NNx9990FjvHy5csYP3487rzzTtSqVQvHjh3Dpk2bMGDAgCL7XojITTydNEREpGmalpOTo7377rtagwYNtICAAK1KlSpajx49tNWrV+cmD//0009a48aNtcDAQO2GG27Qtm3bZnWO7777TouPj9cCAgK0uLg47c0337R6/vLly9qYMWO0mJgYLTAwUKtbt672xRdfaJqmJyifPXs29/gtW7ZoALRDhw5pWVlZ2sCBA7XY2FgtMDBQq1q1qjZq1Kjc5GUi8l4WTdM0D8dbRET5WrVqFW6++WacPXsWERERnh4OEfkY5uwQERFRicZgh4iIiEo0LmMRERFRicaZHSIiIirRGOwQERFRicZgh4iIiEo0BjtERERUojHYISIiohKNwQ4RERGVaAx2iIiIqERjsENEREQl2v8DT4toBiH4NqkAAAAASUVORK5CYII=\n"
          },
          "metadata": {}
        },
        {
          "output_type": "display_data",
          "data": {
            "text/plain": [
              "<Figure size 640x480 with 1 Axes>"
            ],
            "image/png": "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\n"
          },
          "metadata": {}
        },
        {
          "output_type": "stream",
          "name": "stdout",
          "text": [
            "19/19 [==============================] - 0s 2ms/step - loss: 110.8063 - mse: 1.0378\n",
            "MAPE en el conjunto de prueba: 110.80632019042969\n",
            "MSE en el conjunto de prueba: 1.0378292798995972\n"
          ]
        }
      ]
    },
    {
      "cell_type": "markdown",
      "source": [
        "#### LSTM"
      ],
      "metadata": {
        "id": "jd54Z9SV4ulI"
      }
    },
    {
      "cell_type": "code",
      "source": [
        "LSTM_earlystop = EarlyStopping(monitor='loss', min_delta=0, patience=15)"
      ],
      "metadata": {
        "colab": {
          "base_uri": "https://localhost:8080/",
          "height": 166
        },
        "id": "SynzZiv6yVSp",
        "outputId": "9d9e8f0e-a074-41ed-8dfd-2ccca955bb52"
      },
      "execution_count": null,
      "outputs": [
        {
          "output_type": "error",
          "ename": "NameError",
          "evalue": "ignored",
          "traceback": [
            "\u001b[0;31m---------------------------------------------------------------------------\u001b[0m",
            "\u001b[0;31mNameError\u001b[0m                                 Traceback (most recent call last)",
            "\u001b[0;32m<ipython-input-77-839ffe9c11e3>\u001b[0m in \u001b[0;36m<cell line: 1>\u001b[0;34m()\u001b[0m\n\u001b[0;32m----> 1\u001b[0;31m \u001b[0mLSTM_earlystop\u001b[0m \u001b[0;34m=\u001b[0m \u001b[0mEarlyStopping\u001b[0m\u001b[0;34m(\u001b[0m\u001b[0mmonitor\u001b[0m\u001b[0;34m=\u001b[0m\u001b[0;34m'loss'\u001b[0m\u001b[0;34m,\u001b[0m \u001b[0mmin_delta\u001b[0m\u001b[0;34m=\u001b[0m\u001b[0;36m0\u001b[0m\u001b[0;34m,\u001b[0m \u001b[0mpatience\u001b[0m\u001b[0;34m=\u001b[0m\u001b[0;36m15\u001b[0m\u001b[0;34m)\u001b[0m\u001b[0;34m\u001b[0m\u001b[0;34m\u001b[0m\u001b[0m\n\u001b[0m",
            "\u001b[0;31mNameError\u001b[0m: name 'EarlyStopping' is not defined"
          ]
        }
      ]
    },
    {
      "cell_type": "code",
      "source": [],
      "metadata": {
        "id": "uCAdz7Wv5Gm_"
      },
      "execution_count": null,
      "outputs": []
    },
    {
      "cell_type": "code",
      "source": [],
      "metadata": {
        "id": "mGnn7UUT5F7M"
      },
      "execution_count": null,
      "outputs": []
    },
    {
      "cell_type": "code",
      "source": [],
      "metadata": {
        "id": "cq3XrX525FQl"
      },
      "execution_count": null,
      "outputs": []
    },
    {
      "cell_type": "code",
      "source": [],
      "metadata": {
        "id": "ICDoul-E5Emk"
      },
      "execution_count": null,
      "outputs": []
    },
    {
      "cell_type": "code",
      "source": [],
      "metadata": {
        "id": "P2PwxlNI5D5Y"
      },
      "execution_count": null,
      "outputs": []
    },
    {
      "cell_type": "code",
      "source": [],
      "metadata": {
        "id": "dwPPJyH15DQy"
      },
      "execution_count": null,
      "outputs": []
    },
    {
      "cell_type": "code",
      "source": [],
      "metadata": {
        "id": "W4nWxQcF5Cr3"
      },
      "execution_count": null,
      "outputs": []
    },
    {
      "cell_type": "code",
      "source": [],
      "metadata": {
        "id": "UYQhqaEI5B9_"
      },
      "execution_count": null,
      "outputs": []
    },
    {
      "cell_type": "code",
      "source": [],
      "metadata": {
        "id": "sYxWN2oG5BUJ"
      },
      "execution_count": null,
      "outputs": []
    },
    {
      "cell_type": "code",
      "source": [],
      "metadata": {
        "id": "eg1o6isz5Aqy"
      },
      "execution_count": null,
      "outputs": []
    },
    {
      "cell_type": "code",
      "source": [],
      "metadata": {
        "id": "vDtDMkOk4__Q"
      },
      "execution_count": null,
      "outputs": []
    },
    {
      "cell_type": "code",
      "source": [],
      "metadata": {
        "id": "TqHNYWlR4_TD"
      },
      "execution_count": null,
      "outputs": []
    },
    {
      "cell_type": "code",
      "source": [],
      "metadata": {
        "id": "egHJc6oS4-mI"
      },
      "execution_count": null,
      "outputs": []
    },
    {
      "cell_type": "code",
      "source": [],
      "metadata": {
        "id": "L4IKbPK_4-D2"
      },
      "execution_count": null,
      "outputs": []
    },
    {
      "cell_type": "code",
      "source": [],
      "metadata": {
        "id": "9Ql7cajG49eV"
      },
      "execution_count": null,
      "outputs": []
    },
    {
     "data": {
      "text/html": [
       "<div>\n",
       "<style scoped>\n",
       "    .dataframe tbody tr th:only-of-type {\n",
       "        vertical-align: middle;\n",
       "    }\n",
       "\n",
       "    .dataframe tbody tr th {\n",
       "        vertical-align: top;\n",
       "    }\n",
       "\n",
       "    .dataframe thead th {\n",
       "        text-align: right;\n",
       "    }\n",
       "</style>\n",
       "<table border=\"1\" class=\"dataframe\">\n",
       "  <thead>\n",
       "    <tr style=\"text-align: right;\">\n",
       "      <th></th>\n",
       "      <th>Vehicles</th>\n",
       "      <th>AvgTemperature2</th>\n",
       "    </tr>\n",
       "    <tr>\n",
       "      <th>DateTime</th>\n",
       "      <th></th>\n",
       "      <th></th>\n",
       "    </tr>\n",
       "  </thead>\n",
       "  <tbody>\n",
       "    <tr>\n",
       "      <th>2017-01-30 00:00:00</th>\n",
       "      <td>53</td>\n",
       "      <td>0.417391</td>\n",
       "    </tr>\n",
       "    <tr>\n",
       "      <th>2017-01-30 01:00:00</th>\n",
       "      <td>49</td>\n",
       "      <td>0.382609</td>\n",
       "    </tr>\n",
       "    <tr>\n",
       "      <th>2017-01-30 02:00:00</th>\n",
       "      <td>45</td>\n",
       "      <td>0.347826</td>\n",
       "    </tr>\n",
       "    <tr>\n",
       "      <th>2017-01-30 03:00:00</th>\n",
       "      <td>50</td>\n",
       "      <td>0.391304</td>\n",
       "    </tr>\n",
       "    <tr>\n",
       "      <th>2017-01-30 04:00:00</th>\n",
       "      <td>48</td>\n",
       "      <td>0.373913</td>\n",
       "    </tr>\n",
       "  </tbody>\n",
       "</table>\n",
       "</div>"
      ],
      "text/plain": [
       "                     Vehicles  AvgTemperature2\n",
       "DateTime                                      \n",
       "2017-01-30 00:00:00        53         0.417391\n",
       "2017-01-30 01:00:00        49         0.382609\n",
       "2017-01-30 02:00:00        45         0.347826\n",
       "2017-01-30 03:00:00        50         0.391304\n",
       "2017-01-30 04:00:00        48         0.373913"
      ]
     },
     "execution_count": 39,
     "metadata": {},
     "output_type": "execute_result"
    }
   ],
   "source": [
    "test[\"AvgTemperature2\"] = scaler.transform(test)\n",
    "test.head()"
   ]
  },
  {
   "cell_type": "code",
   "execution_count": null,
   "metadata": {},
   "outputs": [],
   "source": [
    "model2=sm.tsa.statespace.SARIMAX(train[\"AvgTemperature2\"],order=(4, 0, 2),seasonal_order=(1,0,1,12))\n",
    "results2=model2.fit()"
   ]
  },
  {
   "cell_type": "markdown",
   "metadata": {
    "id": "R8vKRLaBL4oG"
   },
   "source": [
    "## Modelos no lineales"
   ]
  },
  {
   "cell_type": "markdown",
   "metadata": {
    "id": "SGS0slK6qUUt"
   },
   "source": [
    "#### MLP"
   ]
  },
  {
   "cell_type": "code",
   "execution_count": 93,
   "metadata": {
    "id": "f1hNEpIdL7tS"
   },
   "outputs": [],
   "source": [
    "# dividir una secuencia univariada en muestras\n",
    "def split_univariate_sequence(sequence, n_steps):\n",
    "    X, y = list(), list()\n",
    "    for i in range(len(sequence)):\n",
    "        # encontrar el final de este patrón\n",
    "        end_ix = i + n_steps\n",
    "\n",
    "        # comprobar si estamos más allá de la secuencia\n",
    "        if end_ix > len(sequence)-1:\n",
    "            break\n",
    "        # reunir partes de entrada y salida del patrón\n",
    "        seq_x, seq_y = sequence[i:end_ix], sequence[end_ix]\n",
    "        X.append(seq_x)\n",
    "        y.append(seq_y)\n",
    "    return np.array(X), np.array(y)"
   ]
  },
  {
   "cell_type": "code",
   "execution_count": 94,
   "metadata": {
    "colab": {
     "base_uri": "https://localhost:8080/",
     "height": 447
    },
    "id": "biF78rfQ2Nn5",
    "outputId": "0bc80297-8481-43f7-cd17-32369ffc679a"
   },
   "outputs": [
    {
     "data": {
      "text/plain": "[<matplotlib.lines.Line2D at 0x7fbfd14fe9d0>]"
     },
     "execution_count": 94,
     "metadata": {},
     "output_type": "execute_result"
    },
    {
     "data": {
      "text/plain": "<Figure size 432x288 with 1 Axes>",
      "image/png": "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\n"
     },
     "metadata": {},
     "output_type": "display_data"
    }
   ],
   "source": [
    "plt.plot(vals_bc)"
   ]
  },
  {
   "cell_type": "code",
   "execution_count": 95,
   "metadata": {
    "colab": {
     "base_uri": "https://localhost:8080/"
    },
    "id": "NXKOyligqK5L",
    "outputId": "23288147-6f41-4bb6-d34c-e347008fadec"
   },
   "outputs": [
    {
     "name": "stdout",
     "output_type": "stream",
     "text": [
      "X\n",
      "[[[-1.67867827]\n",
      "  [-1.88844909]\n",
      "  [-2.25500586]]\n",
      "\n",
      " [[-1.88844909]\n",
      "  [-2.25500586]\n",
      "  [-2.71806446]]\n",
      "\n",
      " [[-2.25500586]\n",
      "  [-2.71806446]\n",
      "  [-2.39589795]]\n",
      "\n",
      " ...\n",
      "\n",
      " [[ 1.77549711]\n",
      "  [ 2.00961311]\n",
      "  [ 1.79973176]]\n",
      "\n",
      " [[ 2.00961311]\n",
      "  [ 1.79973176]\n",
      "  [ 1.65131936]]\n",
      "\n",
      " [[ 1.79973176]\n",
      "  [ 1.65131936]\n",
      "  [ 1.49516005]]]\n",
      "y\n",
      "[[-2.71806446]\n",
      " [-2.39589795]\n",
      " [-2.9063654 ]\n",
      " ...\n",
      " [ 1.65131936]\n",
      " [ 1.49516005]\n",
      " [ 1.33024985]]\n"
     ]
    }
   ],
   "source": [
    "# Elegir un número de pasos de tiempo\n",
    "n_steps = 3\n",
    "# Dividir en muestras\n",
    "X, y = split_univariate_sequence(vals_bc, n_steps)\n",
    "\n",
    "print('X', X, 'y', y, sep='\\n')"
   ]
  },
  {
   "cell_type": "code",
   "execution_count": 96,
   "metadata": {
    "id": "nkyexMgfqKqF"
   },
   "outputs": [],
   "source": [
    "# Definimos el modelo\n",
    "import keras\n",
    "import tensorflow as tf\n",
    "from sklearn.model_selection import train_test_split"
   ]
  },
  {
   "cell_type": "code",
   "execution_count": null,
   "metadata": {
    "id": "fX2rhH8WqKkf"
   },
   "outputs": [],
   "source": [
    "def split_dataset(X, y):\n",
    "    \"\"\"\n",
    "    Función que se encarga de dividir la data ingresada en datos de entrenamiento, validación y prueba.\n",
    "    :param data: Data con la información de la serie de tiempo a analizar.\n",
    "    \"\"\"\n",
    "    X_train, X_test, y_train, y_test = train_test_split(X, y, test_size=0.2, random_state=42)\n",
    "    X_train, X_val, y_train, y_val = train_test_split(X_train, y_train, test_size=0.1, random_state=42)\n",
    "\n",
    "    return X_train, y_train, X_val, y_val, X_test, y_test"
   ]
  },
  {
   "cell_type": "code",
   "execution_count": null,
   "metadata": {
    "colab": {
     "base_uri": "https://localhost:8080/"
    },
    {
      "cell_type": "code",
      "source": [],
      "metadata": {
        "id": "QkJBtns946y2"
      },
      "execution_count": null,
      "outputs": []
    },
    {
      "cell_type": "code",
      "source": [],
      "metadata": {
        "id": "Kz8F_BBT45ia"
      },
      "execution_count": null,
      "outputs": []
    },
    {
      "cell_type": "markdown",
      "source": [],
      "metadata": {
        "id": "y2v9Pvs2zTKx"
      }
    }
  ],
  "metadata": {
    "kernelspec": {
      "display_name": "Python 3",
      "language": "python",
      "name": "python3"
    },
        "version": 2
    "id": "rb-CCu4n01Dp",
    "outputId": "7287ead8-771f-4fc5-ec4f-6d6b5215a883"
   },
   "outputs": [],
   "source": [
    "cnn_test_mape_score1, cnn_test_mse_score1 = modelo_cnn(n_steps, X_train, y_train, X_val, y_val, X_test, y_test)\n",
    "print('MAPE en el conjunto de prueba:', cnn_test_mape_score1)\n",
    "print('MSE en el conjunto de prueba:', cnn_test_mse_score1)"
   ]
  },
  {
   "cell_type": "markdown",
   "metadata": {
    "id": "jd54Z9SV4ulI"
   },
   "source": [
    "#### LSTM"
   ]
  },
  {
   "cell_type": "code",
   "execution_count": null,
   "metadata": {
    "colab": {
     "base_uri": "https://localhost:8080/",
     "height": 166
    },
    "colab": {
      "provenance": []
    }
  },
  "nbformat": 4,
  "nbformat_minor": 0
}